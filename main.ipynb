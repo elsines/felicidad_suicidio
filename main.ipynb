{
 "cells": [
  {
   "cell_type": "markdown",
   "metadata": {},
   "source": [
    "Importamos las bibliotecas que utilizaremos "
   ]
  },
  {
   "cell_type": "code",
   "execution_count": 296,
   "metadata": {},
   "outputs": [],
   "source": [
    "import plotly as py\n",
    "import plotly.graph_objs as go\n",
    "import pandas as pd\n",
    "import numpy as np\n",
    "import pandas as pd\n",
    "import matplotlib.pyplot as plt\n",
    "import seaborn as sns\n",
    "import pandas as pd\n",
    "import plotly.express as px"
   ]
  },
  {
   "cell_type": "markdown",
   "metadata": {},
   "source": [
    "Análisis de la primera tabla del índice de felicidad mundial"
   ]
  },
  {
   "cell_type": "code",
   "execution_count": 297,
   "metadata": {},
   "outputs": [],
   "source": [
    "datos_ranking_por_paises = \"Data1.xls\" # Cargamos los datos\n",
    "ranking_por_paises = pd.read_excel(datos_ranking_por_paises)"
   ]
  },
  {
   "cell_type": "code",
   "execution_count": 298,
   "metadata": {},
   "outputs": [],
   "source": [
    "ranking_por_paises_1 = ranking_por_paises.drop(columns=[ 'Standard error of ladder score',\n",
    "       'upperwhisker', 'lowerwhisker', 'Logged GDP per capita',\n",
    "       'Social support', 'Healthy life expectancy',\n",
    "       'Freedom to make life choices', 'Generosity',\n",
    "       'Perceptions of corruption', 'Ladder score in Dystopia',\n",
    "       'Explained by: Log GDP per capita', 'Explained by: Social support',\n",
    "       'Explained by: Healthy life expectancy',\n",
    "       'Explained by: Freedom to make life choices',\n",
    "       'Explained by: Generosity', 'Explained by: Perceptions of corruption'])"
   ]
  },
  {
   "cell_type": "code",
   "execution_count": 299,
   "metadata": {},
   "outputs": [],
   "source": [
    "columnas_mundial = [\"Country name\", \"Ladder score\"] # Filtramos por las columnas que utilizaremos \n",
    "ranking = list(range(1,138)) # Agregamos una columna que representa el ranking que ocupa cada pais\n",
    "ranking_mundial = ranking_por_paises[columnas_mundial].copy()\n",
    "ranking_mundial['Ranking'] = ranking\n",
    "ranking_mundial[\"Country name\"] = ranking_mundial[\"Ranking\"].astype(str) + \". \" + ranking_mundial[\"Country name\"]\n",
    "ranking_mundial = ranking_mundial.sort_values(by=\"Ladder score\", ascending=True)\n",
    "# Ordenamos los paises por orden de Life Ladder(\"Que representa el índice de felicidad\")\n",
    "#ranking_mundial"
   ]
  },
  {
   "cell_type": "code",
   "execution_count": 300,
   "metadata": {},
   "outputs": [],
   "source": [
    "primeros_5 = ranking_mundial.iloc[:3]\n",
    "ultimos_5 = ranking_mundial.iloc[-3:]\n",
    "medio = ranking_mundial.iloc[104:107]\n",
    "total= pd.concat([primeros_5,medio,ultimos_5], ignore_index=True)\n",
    "#total\n"
   ]
  },
  {
   "cell_type": "code",
   "execution_count": 301,
   "metadata": {},
   "outputs": [
    {
     "data": {
      "application/vnd.plotly.v1+json": {
       "config": {
        "plotlyServerURL": "https://plot.ly"
       },
       "data": [
        {
         "alignmentgroup": "True",
         "hovertemplate": "Índice de felicidad=%{marker.color}<br>Ranking=%{y}<extra></extra>",
         "legendgroup": "",
         "marker": {
          "color": [
           1.8589999675750732,
           2.392199993133545,
           3.1375999450683594,
           6.4045000076293945,
           6.436200141906738,
           6.4552001953125,
           7.529600143432617,
           7.586400032043457,
           7.804200172424316
          ],
          "coloraxis": "coloraxis",
          "pattern": {
           "shape": ""
          }
         },
         "name": "",
         "offsetgroup": "",
         "orientation": "h",
         "showlegend": false,
         "textposition": "auto",
         "type": "bar",
         "x": [
          1.8589999675750732,
          2.392199993133545,
          3.1375999450683594,
          6.4045000076293945,
          6.436200141906738,
          6.4552001953125,
          7.529600143432617,
          7.586400032043457,
          7.804200172424316
         ],
         "xaxis": "x",
         "y": [
          "137. Afghanistan",
          "136. Lebanon",
          "135. Sierra Leone",
          "33. Italy",
          "32. Spain",
          "31. Estonia",
          "3. Iceland",
          "2. Denmark",
          "1. Finland"
         ],
         "yaxis": "y"
        }
       ],
       "layout": {
        "barmode": "relative",
        "coloraxis": {
         "colorbar": {
          "title": {
           "text": "Índice de felicidad"
          }
         },
         "colorscale": [
          [
           0,
           "rgb(254, 246, 181)"
          ],
          [
           0.16666666666666666,
           "rgb(255, 221, 154)"
          ],
          [
           0.3333333333333333,
           "rgb(255, 194, 133)"
          ],
          [
           0.5,
           "rgb(255, 166, 121)"
          ],
          [
           0.6666666666666666,
           "rgb(250, 138, 118)"
          ],
          [
           0.8333333333333334,
           "rgb(241, 109, 122)"
          ],
          [
           1,
           "rgb(225, 83, 131)"
          ]
         ]
        },
        "legend": {
         "tracegroupgap": 0
        },
        "template": {
         "data": {
          "bar": [
           {
            "error_x": {
             "color": "#2a3f5f"
            },
            "error_y": {
             "color": "#2a3f5f"
            },
            "marker": {
             "line": {
              "color": "#E5ECF6",
              "width": 0.5
             },
             "pattern": {
              "fillmode": "overlay",
              "size": 10,
              "solidity": 0.2
             }
            },
            "type": "bar"
           }
          ],
          "barpolar": [
           {
            "marker": {
             "line": {
              "color": "#E5ECF6",
              "width": 0.5
             },
             "pattern": {
              "fillmode": "overlay",
              "size": 10,
              "solidity": 0.2
             }
            },
            "type": "barpolar"
           }
          ],
          "carpet": [
           {
            "aaxis": {
             "endlinecolor": "#2a3f5f",
             "gridcolor": "white",
             "linecolor": "white",
             "minorgridcolor": "white",
             "startlinecolor": "#2a3f5f"
            },
            "baxis": {
             "endlinecolor": "#2a3f5f",
             "gridcolor": "white",
             "linecolor": "white",
             "minorgridcolor": "white",
             "startlinecolor": "#2a3f5f"
            },
            "type": "carpet"
           }
          ],
          "choropleth": [
           {
            "colorbar": {
             "outlinewidth": 0,
             "ticks": ""
            },
            "type": "choropleth"
           }
          ],
          "contour": [
           {
            "colorbar": {
             "outlinewidth": 0,
             "ticks": ""
            },
            "colorscale": [
             [
              0,
              "#0d0887"
             ],
             [
              0.1111111111111111,
              "#46039f"
             ],
             [
              0.2222222222222222,
              "#7201a8"
             ],
             [
              0.3333333333333333,
              "#9c179e"
             ],
             [
              0.4444444444444444,
              "#bd3786"
             ],
             [
              0.5555555555555556,
              "#d8576b"
             ],
             [
              0.6666666666666666,
              "#ed7953"
             ],
             [
              0.7777777777777778,
              "#fb9f3a"
             ],
             [
              0.8888888888888888,
              "#fdca26"
             ],
             [
              1,
              "#f0f921"
             ]
            ],
            "type": "contour"
           }
          ],
          "contourcarpet": [
           {
            "colorbar": {
             "outlinewidth": 0,
             "ticks": ""
            },
            "type": "contourcarpet"
           }
          ],
          "heatmap": [
           {
            "colorbar": {
             "outlinewidth": 0,
             "ticks": ""
            },
            "colorscale": [
             [
              0,
              "#0d0887"
             ],
             [
              0.1111111111111111,
              "#46039f"
             ],
             [
              0.2222222222222222,
              "#7201a8"
             ],
             [
              0.3333333333333333,
              "#9c179e"
             ],
             [
              0.4444444444444444,
              "#bd3786"
             ],
             [
              0.5555555555555556,
              "#d8576b"
             ],
             [
              0.6666666666666666,
              "#ed7953"
             ],
             [
              0.7777777777777778,
              "#fb9f3a"
             ],
             [
              0.8888888888888888,
              "#fdca26"
             ],
             [
              1,
              "#f0f921"
             ]
            ],
            "type": "heatmap"
           }
          ],
          "heatmapgl": [
           {
            "colorbar": {
             "outlinewidth": 0,
             "ticks": ""
            },
            "colorscale": [
             [
              0,
              "#0d0887"
             ],
             [
              0.1111111111111111,
              "#46039f"
             ],
             [
              0.2222222222222222,
              "#7201a8"
             ],
             [
              0.3333333333333333,
              "#9c179e"
             ],
             [
              0.4444444444444444,
              "#bd3786"
             ],
             [
              0.5555555555555556,
              "#d8576b"
             ],
             [
              0.6666666666666666,
              "#ed7953"
             ],
             [
              0.7777777777777778,
              "#fb9f3a"
             ],
             [
              0.8888888888888888,
              "#fdca26"
             ],
             [
              1,
              "#f0f921"
             ]
            ],
            "type": "heatmapgl"
           }
          ],
          "histogram": [
           {
            "marker": {
             "pattern": {
              "fillmode": "overlay",
              "size": 10,
              "solidity": 0.2
             }
            },
            "type": "histogram"
           }
          ],
          "histogram2d": [
           {
            "colorbar": {
             "outlinewidth": 0,
             "ticks": ""
            },
            "colorscale": [
             [
              0,
              "#0d0887"
             ],
             [
              0.1111111111111111,
              "#46039f"
             ],
             [
              0.2222222222222222,
              "#7201a8"
             ],
             [
              0.3333333333333333,
              "#9c179e"
             ],
             [
              0.4444444444444444,
              "#bd3786"
             ],
             [
              0.5555555555555556,
              "#d8576b"
             ],
             [
              0.6666666666666666,
              "#ed7953"
             ],
             [
              0.7777777777777778,
              "#fb9f3a"
             ],
             [
              0.8888888888888888,
              "#fdca26"
             ],
             [
              1,
              "#f0f921"
             ]
            ],
            "type": "histogram2d"
           }
          ],
          "histogram2dcontour": [
           {
            "colorbar": {
             "outlinewidth": 0,
             "ticks": ""
            },
            "colorscale": [
             [
              0,
              "#0d0887"
             ],
             [
              0.1111111111111111,
              "#46039f"
             ],
             [
              0.2222222222222222,
              "#7201a8"
             ],
             [
              0.3333333333333333,
              "#9c179e"
             ],
             [
              0.4444444444444444,
              "#bd3786"
             ],
             [
              0.5555555555555556,
              "#d8576b"
             ],
             [
              0.6666666666666666,
              "#ed7953"
             ],
             [
              0.7777777777777778,
              "#fb9f3a"
             ],
             [
              0.8888888888888888,
              "#fdca26"
             ],
             [
              1,
              "#f0f921"
             ]
            ],
            "type": "histogram2dcontour"
           }
          ],
          "mesh3d": [
           {
            "colorbar": {
             "outlinewidth": 0,
             "ticks": ""
            },
            "type": "mesh3d"
           }
          ],
          "parcoords": [
           {
            "line": {
             "colorbar": {
              "outlinewidth": 0,
              "ticks": ""
             }
            },
            "type": "parcoords"
           }
          ],
          "pie": [
           {
            "automargin": true,
            "type": "pie"
           }
          ],
          "scatter": [
           {
            "fillpattern": {
             "fillmode": "overlay",
             "size": 10,
             "solidity": 0.2
            },
            "type": "scatter"
           }
          ],
          "scatter3d": [
           {
            "line": {
             "colorbar": {
              "outlinewidth": 0,
              "ticks": ""
             }
            },
            "marker": {
             "colorbar": {
              "outlinewidth": 0,
              "ticks": ""
             }
            },
            "type": "scatter3d"
           }
          ],
          "scattercarpet": [
           {
            "marker": {
             "colorbar": {
              "outlinewidth": 0,
              "ticks": ""
             }
            },
            "type": "scattercarpet"
           }
          ],
          "scattergeo": [
           {
            "marker": {
             "colorbar": {
              "outlinewidth": 0,
              "ticks": ""
             }
            },
            "type": "scattergeo"
           }
          ],
          "scattergl": [
           {
            "marker": {
             "colorbar": {
              "outlinewidth": 0,
              "ticks": ""
             }
            },
            "type": "scattergl"
           }
          ],
          "scattermapbox": [
           {
            "marker": {
             "colorbar": {
              "outlinewidth": 0,
              "ticks": ""
             }
            },
            "type": "scattermapbox"
           }
          ],
          "scatterpolar": [
           {
            "marker": {
             "colorbar": {
              "outlinewidth": 0,
              "ticks": ""
             }
            },
            "type": "scatterpolar"
           }
          ],
          "scatterpolargl": [
           {
            "marker": {
             "colorbar": {
              "outlinewidth": 0,
              "ticks": ""
             }
            },
            "type": "scatterpolargl"
           }
          ],
          "scatterternary": [
           {
            "marker": {
             "colorbar": {
              "outlinewidth": 0,
              "ticks": ""
             }
            },
            "type": "scatterternary"
           }
          ],
          "surface": [
           {
            "colorbar": {
             "outlinewidth": 0,
             "ticks": ""
            },
            "colorscale": [
             [
              0,
              "#0d0887"
             ],
             [
              0.1111111111111111,
              "#46039f"
             ],
             [
              0.2222222222222222,
              "#7201a8"
             ],
             [
              0.3333333333333333,
              "#9c179e"
             ],
             [
              0.4444444444444444,
              "#bd3786"
             ],
             [
              0.5555555555555556,
              "#d8576b"
             ],
             [
              0.6666666666666666,
              "#ed7953"
             ],
             [
              0.7777777777777778,
              "#fb9f3a"
             ],
             [
              0.8888888888888888,
              "#fdca26"
             ],
             [
              1,
              "#f0f921"
             ]
            ],
            "type": "surface"
           }
          ],
          "table": [
           {
            "cells": {
             "fill": {
              "color": "#EBF0F8"
             },
             "line": {
              "color": "white"
             }
            },
            "header": {
             "fill": {
              "color": "#C8D4E3"
             },
             "line": {
              "color": "white"
             }
            },
            "type": "table"
           }
          ]
         },
         "layout": {
          "annotationdefaults": {
           "arrowcolor": "#2a3f5f",
           "arrowhead": 0,
           "arrowwidth": 1
          },
          "autotypenumbers": "strict",
          "coloraxis": {
           "colorbar": {
            "outlinewidth": 0,
            "ticks": ""
           }
          },
          "colorscale": {
           "diverging": [
            [
             0,
             "#8e0152"
            ],
            [
             0.1,
             "#c51b7d"
            ],
            [
             0.2,
             "#de77ae"
            ],
            [
             0.3,
             "#f1b6da"
            ],
            [
             0.4,
             "#fde0ef"
            ],
            [
             0.5,
             "#f7f7f7"
            ],
            [
             0.6,
             "#e6f5d0"
            ],
            [
             0.7,
             "#b8e186"
            ],
            [
             0.8,
             "#7fbc41"
            ],
            [
             0.9,
             "#4d9221"
            ],
            [
             1,
             "#276419"
            ]
           ],
           "sequential": [
            [
             0,
             "#0d0887"
            ],
            [
             0.1111111111111111,
             "#46039f"
            ],
            [
             0.2222222222222222,
             "#7201a8"
            ],
            [
             0.3333333333333333,
             "#9c179e"
            ],
            [
             0.4444444444444444,
             "#bd3786"
            ],
            [
             0.5555555555555556,
             "#d8576b"
            ],
            [
             0.6666666666666666,
             "#ed7953"
            ],
            [
             0.7777777777777778,
             "#fb9f3a"
            ],
            [
             0.8888888888888888,
             "#fdca26"
            ],
            [
             1,
             "#f0f921"
            ]
           ],
           "sequentialminus": [
            [
             0,
             "#0d0887"
            ],
            [
             0.1111111111111111,
             "#46039f"
            ],
            [
             0.2222222222222222,
             "#7201a8"
            ],
            [
             0.3333333333333333,
             "#9c179e"
            ],
            [
             0.4444444444444444,
             "#bd3786"
            ],
            [
             0.5555555555555556,
             "#d8576b"
            ],
            [
             0.6666666666666666,
             "#ed7953"
            ],
            [
             0.7777777777777778,
             "#fb9f3a"
            ],
            [
             0.8888888888888888,
             "#fdca26"
            ],
            [
             1,
             "#f0f921"
            ]
           ]
          },
          "colorway": [
           "#636efa",
           "#EF553B",
           "#00cc96",
           "#ab63fa",
           "#FFA15A",
           "#19d3f3",
           "#FF6692",
           "#B6E880",
           "#FF97FF",
           "#FECB52"
          ],
          "font": {
           "color": "#2a3f5f"
          },
          "geo": {
           "bgcolor": "white",
           "lakecolor": "white",
           "landcolor": "#E5ECF6",
           "showlakes": true,
           "showland": true,
           "subunitcolor": "white"
          },
          "hoverlabel": {
           "align": "left"
          },
          "hovermode": "closest",
          "mapbox": {
           "style": "light"
          },
          "paper_bgcolor": "white",
          "plot_bgcolor": "#E5ECF6",
          "polar": {
           "angularaxis": {
            "gridcolor": "white",
            "linecolor": "white",
            "ticks": ""
           },
           "bgcolor": "#E5ECF6",
           "radialaxis": {
            "gridcolor": "white",
            "linecolor": "white",
            "ticks": ""
           }
          },
          "scene": {
           "xaxis": {
            "backgroundcolor": "#E5ECF6",
            "gridcolor": "white",
            "gridwidth": 2,
            "linecolor": "white",
            "showbackground": true,
            "ticks": "",
            "zerolinecolor": "white"
           },
           "yaxis": {
            "backgroundcolor": "#E5ECF6",
            "gridcolor": "white",
            "gridwidth": 2,
            "linecolor": "white",
            "showbackground": true,
            "ticks": "",
            "zerolinecolor": "white"
           },
           "zaxis": {
            "backgroundcolor": "#E5ECF6",
            "gridcolor": "white",
            "gridwidth": 2,
            "linecolor": "white",
            "showbackground": true,
            "ticks": "",
            "zerolinecolor": "white"
           }
          },
          "shapedefaults": {
           "line": {
            "color": "#2a3f5f"
           }
          },
          "ternary": {
           "aaxis": {
            "gridcolor": "white",
            "linecolor": "white",
            "ticks": ""
           },
           "baxis": {
            "gridcolor": "white",
            "linecolor": "white",
            "ticks": ""
           },
           "bgcolor": "#E5ECF6",
           "caxis": {
            "gridcolor": "white",
            "linecolor": "white",
            "ticks": ""
           }
          },
          "title": {
           "x": 0.05
          },
          "xaxis": {
           "automargin": true,
           "gridcolor": "white",
           "linecolor": "white",
           "ticks": "",
           "title": {
            "standoff": 15
           },
           "zerolinecolor": "white",
           "zerolinewidth": 2
          },
          "yaxis": {
           "automargin": true,
           "gridcolor": "white",
           "linecolor": "white",
           "ticks": "",
           "title": {
            "standoff": 15
           },
           "zerolinecolor": "white",
           "zerolinewidth": 2
          }
         }
        },
        "title": {
         "font": {
          "size": 26
         },
         "text": "Ranking de Felicidad",
         "x": 0.5
        },
        "xaxis": {
         "anchor": "y",
         "domain": [
          0,
          1
         ],
         "title": {
          "text": " Años: 2020 - 2021 - 2022"
         }
        },
        "yaxis": {
         "anchor": "x",
         "domain": [
          0,
          1
         ],
         "title": {
          "text": ""
         }
        }
       }
      }
     },
     "metadata": {},
     "output_type": "display_data"
    }
   ],
   "source": [
    "import plotly.express as px\n",
    "\n",
    "fig = px.bar(total, x='Ladder score', y='Country name', color='Ladder score',\n",
    "             labels={'Ladder score': 'Índice de felicidad', 'Country name': 'Ranking'},\n",
    "             orientation='h', \n",
    "             title='Ranking de Felicidad',\n",
    "             color_continuous_scale='pinkyl')  \n",
    "\n",
    "fig.update_layout(yaxis_title='')\n",
    "fig.update_layout(xaxis_title=' Años: 2020 - 2021 - 2022')\n",
    "fig.update_layout(title_x=0.5)\n",
    "fig.update_layout(title_font=dict(size=26))\n",
    "fig.show()\n"
   ]
  },
  {
   "cell_type": "code",
   "execution_count": 302,
   "metadata": {},
   "outputs": [],
   "source": [
    "#fig.write_image(\"grafico_ranking_felicidad.png\")"
   ]
  },
  {
   "cell_type": "markdown",
   "metadata": {},
   "source": [
    "Análisis de la segunda tabla del índice de felicidad mundial"
   ]
  },
  {
   "cell_type": "code",
   "execution_count": 303,
   "metadata": {},
   "outputs": [],
   "source": [
    "indice_felicidad_mundial = \"Data2.xls\"\n",
    "datos_felicidad_mundial = pd.read_excel(indice_felicidad_mundial) # 2008-2022 137 paises\n",
    "#datos_felicidad_mundial"
   ]
  },
  {
   "cell_type": "code",
   "execution_count": 304,
   "metadata": {},
   "outputs": [],
   "source": [
    "datos_espania = datos_felicidad_mundial.loc[datos_felicidad_mundial['Country name'] == 'Spain']\n",
    "ultimos_anios_espania = datos_espania[datos_espania['year'] >= 2010]\n",
    "indices = range(1,len(ultimos_anios_espania)+1)\n",
    "ultimos_anios_espania.index = indices\n",
    "#ultimos_anios_espania.isnull() # Verificamos que no tiene valores nulos.\n",
    "#ultimos_anios_espania"
   ]
  },
  {
   "cell_type": "code",
   "execution_count": 305,
   "metadata": {},
   "outputs": [
    {
     "data": {
      "application/vnd.plotly.v1+json": {
       "config": {
        "plotlyServerURL": "https://plot.ly"
       },
       "data": [
        {
         "alignmentgroup": "True",
         "hovertemplate": "Año=%{x}<br>Índice de Felicidad=%{marker.color}<extra></extra>",
         "legendgroup": "",
         "marker": {
          "color": [
           6.188262462615967,
           6.518249034881592,
           6.2906904220581055,
           6.150027275085449,
           6.456477642059326,
           6.3806633949279785,
           6.318612098693848,
           6.230173110961914,
           6.513370990753174,
           6.457449436187744,
           6.502175331115723,
           6.469611167907715,
           6.336902141571045
          ],
          "coloraxis": "coloraxis",
          "pattern": {
           "shape": ""
          }
         },
         "name": "",
         "offsetgroup": "",
         "orientation": "v",
         "showlegend": false,
         "textposition": "auto",
         "type": "bar",
         "x": [
          2010,
          2011,
          2012,
          2013,
          2014,
          2015,
          2016,
          2017,
          2018,
          2019,
          2020,
          2021,
          2022
         ],
         "xaxis": "x",
         "y": [
          6.188262462615967,
          6.518249034881592,
          6.2906904220581055,
          6.150027275085449,
          6.456477642059326,
          6.3806633949279785,
          6.318612098693848,
          6.230173110961914,
          6.513370990753174,
          6.457449436187744,
          6.502175331115723,
          6.469611167907715,
          6.336902141571045
         ],
         "yaxis": "y"
        }
       ],
       "layout": {
        "barmode": "relative",
        "coloraxis": {
         "colorbar": {
          "title": {
           "text": "Índice de Felicidad"
          }
         },
         "colorscale": [
          [
           0,
           "rgb(253, 224, 197)"
          ],
          [
           0.16666666666666666,
           "rgb(250, 203, 166)"
          ],
          [
           0.3333333333333333,
           "rgb(248, 181, 139)"
          ],
          [
           0.5,
           "rgb(245, 158, 114)"
          ],
          [
           0.6666666666666666,
           "rgb(242, 133, 93)"
          ],
          [
           0.8333333333333334,
           "rgb(239, 106, 76)"
          ],
          [
           1,
           "rgb(235, 74, 64)"
          ]
         ]
        },
        "height": 500,
        "legend": {
         "tracegroupgap": 0
        },
        "template": {
         "data": {
          "bar": [
           {
            "error_x": {
             "color": "#2a3f5f"
            },
            "error_y": {
             "color": "#2a3f5f"
            },
            "marker": {
             "line": {
              "color": "#E5ECF6",
              "width": 0.5
             },
             "pattern": {
              "fillmode": "overlay",
              "size": 10,
              "solidity": 0.2
             }
            },
            "type": "bar"
           }
          ],
          "barpolar": [
           {
            "marker": {
             "line": {
              "color": "#E5ECF6",
              "width": 0.5
             },
             "pattern": {
              "fillmode": "overlay",
              "size": 10,
              "solidity": 0.2
             }
            },
            "type": "barpolar"
           }
          ],
          "carpet": [
           {
            "aaxis": {
             "endlinecolor": "#2a3f5f",
             "gridcolor": "white",
             "linecolor": "white",
             "minorgridcolor": "white",
             "startlinecolor": "#2a3f5f"
            },
            "baxis": {
             "endlinecolor": "#2a3f5f",
             "gridcolor": "white",
             "linecolor": "white",
             "minorgridcolor": "white",
             "startlinecolor": "#2a3f5f"
            },
            "type": "carpet"
           }
          ],
          "choropleth": [
           {
            "colorbar": {
             "outlinewidth": 0,
             "ticks": ""
            },
            "type": "choropleth"
           }
          ],
          "contour": [
           {
            "colorbar": {
             "outlinewidth": 0,
             "ticks": ""
            },
            "colorscale": [
             [
              0,
              "#0d0887"
             ],
             [
              0.1111111111111111,
              "#46039f"
             ],
             [
              0.2222222222222222,
              "#7201a8"
             ],
             [
              0.3333333333333333,
              "#9c179e"
             ],
             [
              0.4444444444444444,
              "#bd3786"
             ],
             [
              0.5555555555555556,
              "#d8576b"
             ],
             [
              0.6666666666666666,
              "#ed7953"
             ],
             [
              0.7777777777777778,
              "#fb9f3a"
             ],
             [
              0.8888888888888888,
              "#fdca26"
             ],
             [
              1,
              "#f0f921"
             ]
            ],
            "type": "contour"
           }
          ],
          "contourcarpet": [
           {
            "colorbar": {
             "outlinewidth": 0,
             "ticks": ""
            },
            "type": "contourcarpet"
           }
          ],
          "heatmap": [
           {
            "colorbar": {
             "outlinewidth": 0,
             "ticks": ""
            },
            "colorscale": [
             [
              0,
              "#0d0887"
             ],
             [
              0.1111111111111111,
              "#46039f"
             ],
             [
              0.2222222222222222,
              "#7201a8"
             ],
             [
              0.3333333333333333,
              "#9c179e"
             ],
             [
              0.4444444444444444,
              "#bd3786"
             ],
             [
              0.5555555555555556,
              "#d8576b"
             ],
             [
              0.6666666666666666,
              "#ed7953"
             ],
             [
              0.7777777777777778,
              "#fb9f3a"
             ],
             [
              0.8888888888888888,
              "#fdca26"
             ],
             [
              1,
              "#f0f921"
             ]
            ],
            "type": "heatmap"
           }
          ],
          "heatmapgl": [
           {
            "colorbar": {
             "outlinewidth": 0,
             "ticks": ""
            },
            "colorscale": [
             [
              0,
              "#0d0887"
             ],
             [
              0.1111111111111111,
              "#46039f"
             ],
             [
              0.2222222222222222,
              "#7201a8"
             ],
             [
              0.3333333333333333,
              "#9c179e"
             ],
             [
              0.4444444444444444,
              "#bd3786"
             ],
             [
              0.5555555555555556,
              "#d8576b"
             ],
             [
              0.6666666666666666,
              "#ed7953"
             ],
             [
              0.7777777777777778,
              "#fb9f3a"
             ],
             [
              0.8888888888888888,
              "#fdca26"
             ],
             [
              1,
              "#f0f921"
             ]
            ],
            "type": "heatmapgl"
           }
          ],
          "histogram": [
           {
            "marker": {
             "pattern": {
              "fillmode": "overlay",
              "size": 10,
              "solidity": 0.2
             }
            },
            "type": "histogram"
           }
          ],
          "histogram2d": [
           {
            "colorbar": {
             "outlinewidth": 0,
             "ticks": ""
            },
            "colorscale": [
             [
              0,
              "#0d0887"
             ],
             [
              0.1111111111111111,
              "#46039f"
             ],
             [
              0.2222222222222222,
              "#7201a8"
             ],
             [
              0.3333333333333333,
              "#9c179e"
             ],
             [
              0.4444444444444444,
              "#bd3786"
             ],
             [
              0.5555555555555556,
              "#d8576b"
             ],
             [
              0.6666666666666666,
              "#ed7953"
             ],
             [
              0.7777777777777778,
              "#fb9f3a"
             ],
             [
              0.8888888888888888,
              "#fdca26"
             ],
             [
              1,
              "#f0f921"
             ]
            ],
            "type": "histogram2d"
           }
          ],
          "histogram2dcontour": [
           {
            "colorbar": {
             "outlinewidth": 0,
             "ticks": ""
            },
            "colorscale": [
             [
              0,
              "#0d0887"
             ],
             [
              0.1111111111111111,
              "#46039f"
             ],
             [
              0.2222222222222222,
              "#7201a8"
             ],
             [
              0.3333333333333333,
              "#9c179e"
             ],
             [
              0.4444444444444444,
              "#bd3786"
             ],
             [
              0.5555555555555556,
              "#d8576b"
             ],
             [
              0.6666666666666666,
              "#ed7953"
             ],
             [
              0.7777777777777778,
              "#fb9f3a"
             ],
             [
              0.8888888888888888,
              "#fdca26"
             ],
             [
              1,
              "#f0f921"
             ]
            ],
            "type": "histogram2dcontour"
           }
          ],
          "mesh3d": [
           {
            "colorbar": {
             "outlinewidth": 0,
             "ticks": ""
            },
            "type": "mesh3d"
           }
          ],
          "parcoords": [
           {
            "line": {
             "colorbar": {
              "outlinewidth": 0,
              "ticks": ""
             }
            },
            "type": "parcoords"
           }
          ],
          "pie": [
           {
            "automargin": true,
            "type": "pie"
           }
          ],
          "scatter": [
           {
            "fillpattern": {
             "fillmode": "overlay",
             "size": 10,
             "solidity": 0.2
            },
            "type": "scatter"
           }
          ],
          "scatter3d": [
           {
            "line": {
             "colorbar": {
              "outlinewidth": 0,
              "ticks": ""
             }
            },
            "marker": {
             "colorbar": {
              "outlinewidth": 0,
              "ticks": ""
             }
            },
            "type": "scatter3d"
           }
          ],
          "scattercarpet": [
           {
            "marker": {
             "colorbar": {
              "outlinewidth": 0,
              "ticks": ""
             }
            },
            "type": "scattercarpet"
           }
          ],
          "scattergeo": [
           {
            "marker": {
             "colorbar": {
              "outlinewidth": 0,
              "ticks": ""
             }
            },
            "type": "scattergeo"
           }
          ],
          "scattergl": [
           {
            "marker": {
             "colorbar": {
              "outlinewidth": 0,
              "ticks": ""
             }
            },
            "type": "scattergl"
           }
          ],
          "scattermapbox": [
           {
            "marker": {
             "colorbar": {
              "outlinewidth": 0,
              "ticks": ""
             }
            },
            "type": "scattermapbox"
           }
          ],
          "scatterpolar": [
           {
            "marker": {
             "colorbar": {
              "outlinewidth": 0,
              "ticks": ""
             }
            },
            "type": "scatterpolar"
           }
          ],
          "scatterpolargl": [
           {
            "marker": {
             "colorbar": {
              "outlinewidth": 0,
              "ticks": ""
             }
            },
            "type": "scatterpolargl"
           }
          ],
          "scatterternary": [
           {
            "marker": {
             "colorbar": {
              "outlinewidth": 0,
              "ticks": ""
             }
            },
            "type": "scatterternary"
           }
          ],
          "surface": [
           {
            "colorbar": {
             "outlinewidth": 0,
             "ticks": ""
            },
            "colorscale": [
             [
              0,
              "#0d0887"
             ],
             [
              0.1111111111111111,
              "#46039f"
             ],
             [
              0.2222222222222222,
              "#7201a8"
             ],
             [
              0.3333333333333333,
              "#9c179e"
             ],
             [
              0.4444444444444444,
              "#bd3786"
             ],
             [
              0.5555555555555556,
              "#d8576b"
             ],
             [
              0.6666666666666666,
              "#ed7953"
             ],
             [
              0.7777777777777778,
              "#fb9f3a"
             ],
             [
              0.8888888888888888,
              "#fdca26"
             ],
             [
              1,
              "#f0f921"
             ]
            ],
            "type": "surface"
           }
          ],
          "table": [
           {
            "cells": {
             "fill": {
              "color": "#EBF0F8"
             },
             "line": {
              "color": "white"
             }
            },
            "header": {
             "fill": {
              "color": "#C8D4E3"
             },
             "line": {
              "color": "white"
             }
            },
            "type": "table"
           }
          ]
         },
         "layout": {
          "annotationdefaults": {
           "arrowcolor": "#2a3f5f",
           "arrowhead": 0,
           "arrowwidth": 1
          },
          "autotypenumbers": "strict",
          "coloraxis": {
           "colorbar": {
            "outlinewidth": 0,
            "ticks": ""
           }
          },
          "colorscale": {
           "diverging": [
            [
             0,
             "#8e0152"
            ],
            [
             0.1,
             "#c51b7d"
            ],
            [
             0.2,
             "#de77ae"
            ],
            [
             0.3,
             "#f1b6da"
            ],
            [
             0.4,
             "#fde0ef"
            ],
            [
             0.5,
             "#f7f7f7"
            ],
            [
             0.6,
             "#e6f5d0"
            ],
            [
             0.7,
             "#b8e186"
            ],
            [
             0.8,
             "#7fbc41"
            ],
            [
             0.9,
             "#4d9221"
            ],
            [
             1,
             "#276419"
            ]
           ],
           "sequential": [
            [
             0,
             "#0d0887"
            ],
            [
             0.1111111111111111,
             "#46039f"
            ],
            [
             0.2222222222222222,
             "#7201a8"
            ],
            [
             0.3333333333333333,
             "#9c179e"
            ],
            [
             0.4444444444444444,
             "#bd3786"
            ],
            [
             0.5555555555555556,
             "#d8576b"
            ],
            [
             0.6666666666666666,
             "#ed7953"
            ],
            [
             0.7777777777777778,
             "#fb9f3a"
            ],
            [
             0.8888888888888888,
             "#fdca26"
            ],
            [
             1,
             "#f0f921"
            ]
           ],
           "sequentialminus": [
            [
             0,
             "#0d0887"
            ],
            [
             0.1111111111111111,
             "#46039f"
            ],
            [
             0.2222222222222222,
             "#7201a8"
            ],
            [
             0.3333333333333333,
             "#9c179e"
            ],
            [
             0.4444444444444444,
             "#bd3786"
            ],
            [
             0.5555555555555556,
             "#d8576b"
            ],
            [
             0.6666666666666666,
             "#ed7953"
            ],
            [
             0.7777777777777778,
             "#fb9f3a"
            ],
            [
             0.8888888888888888,
             "#fdca26"
            ],
            [
             1,
             "#f0f921"
            ]
           ]
          },
          "colorway": [
           "#636efa",
           "#EF553B",
           "#00cc96",
           "#ab63fa",
           "#FFA15A",
           "#19d3f3",
           "#FF6692",
           "#B6E880",
           "#FF97FF",
           "#FECB52"
          ],
          "font": {
           "color": "#2a3f5f"
          },
          "geo": {
           "bgcolor": "white",
           "lakecolor": "white",
           "landcolor": "#E5ECF6",
           "showlakes": true,
           "showland": true,
           "subunitcolor": "white"
          },
          "hoverlabel": {
           "align": "left"
          },
          "hovermode": "closest",
          "mapbox": {
           "style": "light"
          },
          "paper_bgcolor": "white",
          "plot_bgcolor": "#E5ECF6",
          "polar": {
           "angularaxis": {
            "gridcolor": "white",
            "linecolor": "white",
            "ticks": ""
           },
           "bgcolor": "#E5ECF6",
           "radialaxis": {
            "gridcolor": "white",
            "linecolor": "white",
            "ticks": ""
           }
          },
          "scene": {
           "xaxis": {
            "backgroundcolor": "#E5ECF6",
            "gridcolor": "white",
            "gridwidth": 2,
            "linecolor": "white",
            "showbackground": true,
            "ticks": "",
            "zerolinecolor": "white"
           },
           "yaxis": {
            "backgroundcolor": "#E5ECF6",
            "gridcolor": "white",
            "gridwidth": 2,
            "linecolor": "white",
            "showbackground": true,
            "ticks": "",
            "zerolinecolor": "white"
           },
           "zaxis": {
            "backgroundcolor": "#E5ECF6",
            "gridcolor": "white",
            "gridwidth": 2,
            "linecolor": "white",
            "showbackground": true,
            "ticks": "",
            "zerolinecolor": "white"
           }
          },
          "shapedefaults": {
           "line": {
            "color": "#2a3f5f"
           }
          },
          "ternary": {
           "aaxis": {
            "gridcolor": "white",
            "linecolor": "white",
            "ticks": ""
           },
           "baxis": {
            "gridcolor": "white",
            "linecolor": "white",
            "ticks": ""
           },
           "bgcolor": "#E5ECF6",
           "caxis": {
            "gridcolor": "white",
            "linecolor": "white",
            "ticks": ""
           }
          },
          "title": {
           "x": 0.05
          },
          "xaxis": {
           "automargin": true,
           "gridcolor": "white",
           "linecolor": "white",
           "ticks": "",
           "title": {
            "standoff": 15
           },
           "zerolinecolor": "white",
           "zerolinewidth": 2
          },
          "yaxis": {
           "automargin": true,
           "gridcolor": "white",
           "linecolor": "white",
           "ticks": "",
           "title": {
            "standoff": 15
           },
           "zerolinecolor": "white",
           "zerolinewidth": 2
          }
         }
        },
        "title": {
         "font": {
          "size": 28
         },
         "text": "Índice de felicidad en España",
         "x": 0.5
        },
        "xaxis": {
         "anchor": "y",
         "domain": [
          0,
          1
         ],
         "tickfont": {
          "size": 16
         },
         "ticktext": [
          2010,
          2011,
          2012,
          2013,
          2014,
          2015,
          2016,
          2017,
          2018,
          2019,
          2020,
          2021,
          2022
         ],
         "tickvals": [
          2010,
          2011,
          2012,
          2013,
          2014,
          2015,
          2016,
          2017,
          2018,
          2019,
          2020,
          2021,
          2022
         ],
         "title": {
          "text": ""
         }
        },
        "yaxis": {
         "anchor": "x",
         "domain": [
          0,
          1
         ],
         "title": {
          "text": ""
         }
        }
       }
      }
     },
     "metadata": {},
     "output_type": "display_data"
    }
   ],
   "source": [
    "fig = px.bar(ultimos_anios_espania, x='year', y='Life Ladder', \n",
    "             title='Índice de felicidad en España',\n",
    "             labels={'Life Ladder': 'Índice de Felicidad', 'year': 'Año'},\n",
    "             height=500,  # Ajusta el tamaño del gráfico según sea necesario\n",
    "             color='Life Ladder', \n",
    "             color_continuous_scale='Peach'  \n",
    "            )\n",
    "fig.update_layout(yaxis_title='')\n",
    "fig.update_layout(xaxis_title='')\n",
    "fig.update_layout(title_x=0.5)\n",
    "fig.update_layout(title_font=dict(size=28))\n",
    "fig.update_xaxes(tickvals=ultimos_anios_espania['year'], ticktext=ultimos_anios_espania['year'], tickfont=dict(size=16))\n",
    "fig.show()\n"
   ]
  },
  {
   "cell_type": "code",
   "execution_count": 306,
   "metadata": {},
   "outputs": [],
   "source": [
    "#fig.write_image(\"Indice_felicidad_españa.png\")"
   ]
  },
  {
   "cell_type": "code",
   "execution_count": 307,
   "metadata": {},
   "outputs": [],
   "source": [
    "ultimos_anios_espania_1 = ultimos_anios_espania.drop(columns=\"Country name\", axis=1)"
   ]
  },
  {
   "cell_type": "markdown",
   "metadata": {},
   "source": [
    "Análisis de los datos de felicidad según el sexo"
   ]
  },
  {
   "cell_type": "code",
   "execution_count": 308,
   "metadata": {},
   "outputs": [],
   "source": [
    "felicidad_sexo = \"felicidad_españa_ sexo.csv\"\n",
    "datos_felicidad_sexo = pd.read_csv(felicidad_sexo, sep = \";\" , encoding='latin-1')\n",
    "# Años 2013/2018/2022 Clasificación por sexo\n",
    "columnas_sexo = ['Sexo', 'Frecuencia', 'Año', 'Total']\n",
    "datos_felicidad_sexo.columns = columnas_sexo\n"
   ]
  },
  {
   "cell_type": "code",
   "execution_count": 309,
   "metadata": {},
   "outputs": [],
   "source": [
    "# Reemplazar comas por puntos en la columna 'Total'\n",
    "datos_felicidad_sexo['Total'] = datos_felicidad_sexo ['Total'].str.replace(',', '.')\n",
    "\n",
    "# Convertir la columna 'Total' a tipo de datos numérico (float)\n",
    "datos_felicidad_sexo['Total'] = datos_felicidad_sexo ['Total'].astype(float)"
   ]
  },
  {
   "cell_type": "code",
   "execution_count": 310,
   "metadata": {},
   "outputs": [],
   "source": [
    "felicidad_total_sexo = nuevo_df = datos_felicidad_sexo[datos_felicidad_sexo['Sexo'] == 'Total'] #Pertene a ambos sexos \n",
    "felicidad_total_sexo_1=felicidad_total_sexo.drop(columns=\"Sexo\", axis=1)\n",
    "felicidad_total_sexo_2 = felicidad_total_sexo_1.sort_values(by='Total')\n",
    "#felicidad_total_sexo_2.head(2)"
   ]
  },
  {
   "cell_type": "code",
   "execution_count": 311,
   "metadata": {},
   "outputs": [],
   "source": [
    "# Filtrar las filas donde Sexo no sea 'Total'\n",
    "df_sexo_frecuencia = datos_felicidad_sexo[datos_felicidad_sexo['Sexo'] != 'Total']\n",
    "#df_sexo_frecuencia"
   ]
  },
  {
   "cell_type": "code",
   "execution_count": 312,
   "metadata": {},
   "outputs": [],
   "source": [
    "hombres_df = df_sexo_frecuencia[df_sexo_frecuencia['Sexo'] == 'Hombres'].drop(columns='Sexo')\n",
    "hombres_df = hombres_df.sort_values(by=\"Total\")\n",
    "mujeres_df = df_sexo_frecuencia[df_sexo_frecuencia['Sexo'] == 'Mujeres'].drop(columns='Sexo')\n",
    "mujeres_df = mujeres_df.sort_values(by = \"Total\")"
   ]
  },
  {
   "cell_type": "code",
   "execution_count": 313,
   "metadata": {},
   "outputs": [
    {
     "data": {
      "text/plain": [
       "<Figure size 640x480 with 0 Axes>"
      ]
     },
     "metadata": {},
     "output_type": "display_data"
    },
    {
     "data": {
      "image/png": "[encoded data removed]",
      "text/plain": [
       "<Figure size 1000x600 with 1 Axes>"
      ]
     },
     "metadata": {},
     "output_type": "display_data"
    }
   ],
   "source": [
    "\n",
    "fig = plt.figure()\n",
    "plt.figure(figsize=(10, 6))\n",
    "sns.barplot(x='Frecuencia', y='Total', hue='Año', data=felicidad_total_sexo_2, palette='tab10')\n",
    "\n",
    "plt.title('Felicidad en España', fontsize=20)\n",
    "\n",
    "plt.ylabel('Porcentaje')\n",
    "plt.xlabel(\"\")\n",
    "\n",
    "plt.savefig('felicidad_espana.png', dpi=300)\n",
    "plt.show();\n"
   ]
  },
  {
   "cell_type": "code",
   "execution_count": 314,
   "metadata": {},
   "outputs": [],
   "source": [
    "mujeres_felices = mujeres_df.loc[mujeres_df['Frecuencia'] == 'Muy a menudo']\n",
    "hombres_felices = hombres_df.loc[hombres_df['Frecuencia'] == 'Muy a menudo']"
   ]
  },
  {
   "cell_type": "code",
   "execution_count": 315,
   "metadata": {},
   "outputs": [],
   "source": [
    "datos_totales_sexo = pd.merge(mujeres_felices, hombres_felices, on='Año', suffixes=('_Mujeres', '_Hombres'))\n",
    "datos_totales_sexo = datos_totales_sexo.drop(['Frecuencia_Mujeres' , 'Frecuencia_Hombres'], axis=1)\n",
    "datos_totales_sexo= datos_totales_sexo.rename(columns={'periodo': \"Año\"})\n",
    "orden = [\"Año\", \"Total_Mujeres\" , \"Total_Hombres\"]\n",
    "datos_totales_sexo = datos_totales_sexo[orden]"
   ]
  },
  {
   "cell_type": "code",
   "execution_count": 316,
   "metadata": {},
   "outputs": [],
   "source": [
    "data_total_2022 = datos_totales_sexo.iloc[0:1].drop(columns=[\"Año\"])\n",
    "data_total_2018 = datos_totales_sexo.iloc[1:2].drop(columns=[\"Año\"])\n",
    "data_total_2013 = datos_totales_sexo.iloc[2:3].drop(columns=[\"Año\"])\n",
    "data_total_2013 = data_total_2013.T.reset_index()\n",
    "columnas= [\"Sexo\", \"Total\"]\n",
    "data_total_2013.columns = columnas\n",
    "data_total_2018 = data_total_2018.T.reset_index()\n",
    "data_total_2018.columns = columnas\n",
    "data_total_2022 = data_total_2022.T.reset_index()\n",
    "data_total_2022.columns = columnas\n",
    "data_total_2013.rename(columns={'Total': '2013'}, inplace=True)\n",
    "data_total_2018.rename(columns={'Total': '2018'}, inplace=True)\n",
    "data_total_2022.rename(columns={'Total': '2022'}, inplace=True)\n"
   ]
  },
  {
   "cell_type": "code",
   "execution_count": 317,
   "metadata": {},
   "outputs": [],
   "source": [
    "data_felicidad = pd.merge(data_total_2013, data_total_2018, on='Sexo').merge(data_total_2022, on='Sexo')\n",
    "data_felicidad\n",
    "data_felicidad['Sexo'] = data_felicidad['Sexo'].str.replace('Total_', '')\n",
    "data_felicidad\n",
    "data_felicidad = data_felicidad.loc[[1, 0]]\n",
    "#data_felicidad"
   ]
  },
  {
   "cell_type": "code",
   "execution_count": 318,
   "metadata": {},
   "outputs": [
    {
     "data": {
      "application/vnd.plotly.v1+json": {
       "config": {
        "plotlyServerURL": "https://plot.ly"
       },
       "data": [
        {
         "alignmentgroup": "True",
         "hovertemplate": "Sexo=Hombres<br>=%{x}<br> =%{y}<extra></extra>",
         "legendgroup": "Hombres",
         "marker": {
          "color": "rgb(102,194,165)",
          "pattern": {
           "shape": ""
          }
         },
         "name": "Hombres",
         "offsetgroup": "Hombres",
         "orientation": "v",
         "showlegend": true,
         "textposition": "auto",
         "type": "bar",
         "x": [
          "2013",
          "2018",
          "2022"
         ],
         "xaxis": "x",
         "y": [
          74.2,
          68.4,
          64.9
         ],
         "yaxis": "y"
        },
        {
         "alignmentgroup": "True",
         "hovertemplate": "Sexo=Mujeres<br>=%{x}<br> =%{y}<extra></extra>",
         "legendgroup": "Mujeres",
         "marker": {
          "color": "rgb(252,141,98)",
          "pattern": {
           "shape": ""
          }
         },
         "name": "Mujeres",
         "offsetgroup": "Mujeres",
         "orientation": "v",
         "showlegend": true,
         "textposition": "auto",
         "type": "bar",
         "x": [
          "2013",
          "2018",
          "2022"
         ],
         "xaxis": "x",
         "y": [
          69,
          66.2,
          61.5
         ],
         "yaxis": "y"
        }
       ],
       "layout": {
        "barmode": "group",
        "height": 500,
        "legend": {
         "title": {
          "text": "Sexo"
         },
         "tracegroupgap": 0
        },
        "template": {
         "data": {
          "bar": [
           {
            "error_x": {
             "color": "#2a3f5f"
            },
            "error_y": {
             "color": "#2a3f5f"
            },
            "marker": {
             "line": {
              "color": "#E5ECF6",
              "width": 0.5
             },
             "pattern": {
              "fillmode": "overlay",
              "size": 10,
              "solidity": 0.2
             }
            },
            "type": "bar"
           }
          ],
          "barpolar": [
           {
            "marker": {
             "line": {
              "color": "#E5ECF6",
              "width": 0.5
             },
             "pattern": {
              "fillmode": "overlay",
              "size": 10,
              "solidity": 0.2
             }
            },
            "type": "barpolar"
           }
          ],
          "carpet": [
           {
            "aaxis": {
             "endlinecolor": "#2a3f5f",
             "gridcolor": "white",
             "linecolor": "white",
             "minorgridcolor": "white",
             "startlinecolor": "#2a3f5f"
            },
            "baxis": {
             "endlinecolor": "#2a3f5f",
             "gridcolor": "white",
             "linecolor": "white",
             "minorgridcolor": "white",
             "startlinecolor": "#2a3f5f"
            },
            "type": "carpet"
           }
          ],
          "choropleth": [
           {
            "colorbar": {
             "outlinewidth": 0,
             "ticks": ""
            },
            "type": "choropleth"
           }
          ],
          "contour": [
           {
            "colorbar": {
             "outlinewidth": 0,
             "ticks": ""
            },
            "colorscale": [
             [
              0,
              "#0d0887"
             ],
             [
              0.1111111111111111,
              "#46039f"
             ],
             [
              0.2222222222222222,
              "#7201a8"
             ],
             [
              0.3333333333333333,
              "#9c179e"
             ],
             [
              0.4444444444444444,
              "#bd3786"
             ],
             [
              0.5555555555555556,
              "#d8576b"
             ],
             [
              0.6666666666666666,
              "#ed7953"
             ],
             [
              0.7777777777777778,
              "#fb9f3a"
             ],
             [
              0.8888888888888888,
              "#fdca26"
             ],
             [
              1,
              "#f0f921"
             ]
            ],
            "type": "contour"
           }
          ],
          "contourcarpet": [
           {
            "colorbar": {
             "outlinewidth": 0,
             "ticks": ""
            },
            "type": "contourcarpet"
           }
          ],
          "heatmap": [
           {
            "colorbar": {
             "outlinewidth": 0,
             "ticks": ""
            },
            "colorscale": [
             [
              0,
              "#0d0887"
             ],
             [
              0.1111111111111111,
              "#46039f"
             ],
             [
              0.2222222222222222,
              "#7201a8"
             ],
             [
              0.3333333333333333,
              "#9c179e"
             ],
             [
              0.4444444444444444,
              "#bd3786"
             ],
             [
              0.5555555555555556,
              "#d8576b"
             ],
             [
              0.6666666666666666,
              "#ed7953"
             ],
             [
              0.7777777777777778,
              "#fb9f3a"
             ],
             [
              0.8888888888888888,
              "#fdca26"
             ],
             [
              1,
              "#f0f921"
             ]
            ],
            "type": "heatmap"
           }
          ],
          "heatmapgl": [
           {
            "colorbar": {
             "outlinewidth": 0,
             "ticks": ""
            },
            "colorscale": [
             [
              0,
              "#0d0887"
             ],
             [
              0.1111111111111111,
              "#46039f"
             ],
             [
              0.2222222222222222,
              "#7201a8"
             ],
             [
              0.3333333333333333,
              "#9c179e"
             ],
             [
              0.4444444444444444,
              "#bd3786"
             ],
             [
              0.5555555555555556,
              "#d8576b"
             ],
             [
              0.6666666666666666,
              "#ed7953"
             ],
             [
              0.7777777777777778,
              "#fb9f3a"
             ],
             [
              0.8888888888888888,
              "#fdca26"
             ],
             [
              1,
              "#f0f921"
             ]
            ],
            "type": "heatmapgl"
           }
          ],
          "histogram": [
           {
            "marker": {
             "pattern": {
              "fillmode": "overlay",
              "size": 10,
              "solidity": 0.2
             }
            },
            "type": "histogram"
           }
          ],
          "histogram2d": [
           {
            "colorbar": {
             "outlinewidth": 0,
             "ticks": ""
            },
            "colorscale": [
             [
              0,
              "#0d0887"
             ],
             [
              0.1111111111111111,
              "#46039f"
             ],
             [
              0.2222222222222222,
              "#7201a8"
             ],
             [
              0.3333333333333333,
              "#9c179e"
             ],
             [
              0.4444444444444444,
              "#bd3786"
             ],
             [
              0.5555555555555556,
              "#d8576b"
             ],
             [
              0.6666666666666666,
              "#ed7953"
             ],
             [
              0.7777777777777778,
              "#fb9f3a"
             ],
             [
              0.8888888888888888,
              "#fdca26"
             ],
             [
              1,
              "#f0f921"
             ]
            ],
            "type": "histogram2d"
           }
          ],
          "histogram2dcontour": [
           {
            "colorbar": {
             "outlinewidth": 0,
             "ticks": ""
            },
            "colorscale": [
             [
              0,
              "#0d0887"
             ],
             [
              0.1111111111111111,
              "#46039f"
             ],
             [
              0.2222222222222222,
              "#7201a8"
             ],
             [
              0.3333333333333333,
              "#9c179e"
             ],
             [
              0.4444444444444444,
              "#bd3786"
             ],
             [
              0.5555555555555556,
              "#d8576b"
             ],
             [
              0.6666666666666666,
              "#ed7953"
             ],
             [
              0.7777777777777778,
              "#fb9f3a"
             ],
             [
              0.8888888888888888,
              "#fdca26"
             ],
             [
              1,
              "#f0f921"
             ]
            ],
            "type": "histogram2dcontour"
           }
          ],
          "mesh3d": [
           {
            "colorbar": {
             "outlinewidth": 0,
             "ticks": ""
            },
            "type": "mesh3d"
           }
          ],
          "parcoords": [
           {
            "line": {
             "colorbar": {
              "outlinewidth": 0,
              "ticks": ""
             }
            },
            "type": "parcoords"
           }
          ],
          "pie": [
           {
            "automargin": true,
            "type": "pie"
           }
          ],
          "scatter": [
           {
            "fillpattern": {
             "fillmode": "overlay",
             "size": 10,
             "solidity": 0.2
            },
            "type": "scatter"
           }
          ],
          "scatter3d": [
           {
            "line": {
             "colorbar": {
              "outlinewidth": 0,
              "ticks": ""
             }
            },
            "marker": {
             "colorbar": {
              "outlinewidth": 0,
              "ticks": ""
             }
            },
            "type": "scatter3d"
           }
          ],
          "scattercarpet": [
           {
            "marker": {
             "colorbar": {
              "outlinewidth": 0,
              "ticks": ""
             }
            },
            "type": "scattercarpet"
           }
          ],
          "scattergeo": [
           {
            "marker": {
             "colorbar": {
              "outlinewidth": 0,
              "ticks": ""
             }
            },
            "type": "scattergeo"
           }
          ],
          "scattergl": [
           {
            "marker": {
             "colorbar": {
              "outlinewidth": 0,
              "ticks": ""
             }
            },
            "type": "scattergl"
           }
          ],
          "scattermapbox": [
           {
            "marker": {
             "colorbar": {
              "outlinewidth": 0,
              "ticks": ""
             }
            },
            "type": "scattermapbox"
           }
          ],
          "scatterpolar": [
           {
            "marker": {
             "colorbar": {
              "outlinewidth": 0,
              "ticks": ""
             }
            },
            "type": "scatterpolar"
           }
          ],
          "scatterpolargl": [
           {
            "marker": {
             "colorbar": {
              "outlinewidth": 0,
              "ticks": ""
             }
            },
            "type": "scatterpolargl"
           }
          ],
          "scatterternary": [
           {
            "marker": {
             "colorbar": {
              "outlinewidth": 0,
              "ticks": ""
             }
            },
            "type": "scatterternary"
           }
          ],
          "surface": [
           {
            "colorbar": {
             "outlinewidth": 0,
             "ticks": ""
            },
            "colorscale": [
             [
              0,
              "#0d0887"
             ],
             [
              0.1111111111111111,
              "#46039f"
             ],
             [
              0.2222222222222222,
              "#7201a8"
             ],
             [
              0.3333333333333333,
              "#9c179e"
             ],
             [
              0.4444444444444444,
              "#bd3786"
             ],
             [
              0.5555555555555556,
              "#d8576b"
             ],
             [
              0.6666666666666666,
              "#ed7953"
             ],
             [
              0.7777777777777778,
              "#fb9f3a"
             ],
             [
              0.8888888888888888,
              "#fdca26"
             ],
             [
              1,
              "#f0f921"
             ]
            ],
            "type": "surface"
           }
          ],
          "table": [
           {
            "cells": {
             "fill": {
              "color": "#EBF0F8"
             },
             "line": {
              "color": "white"
             }
            },
            "header": {
             "fill": {
              "color": "#C8D4E3"
             },
             "line": {
              "color": "white"
             }
            },
            "type": "table"
           }
          ]
         },
         "layout": {
          "annotationdefaults": {
           "arrowcolor": "#2a3f5f",
           "arrowhead": 0,
           "arrowwidth": 1
          },
          "autotypenumbers": "strict",
          "coloraxis": {
           "colorbar": {
            "outlinewidth": 0,
            "ticks": ""
           }
          },
          "colorscale": {
           "diverging": [
            [
             0,
             "#8e0152"
            ],
            [
             0.1,
             "#c51b7d"
            ],
            [
             0.2,
             "#de77ae"
            ],
            [
             0.3,
             "#f1b6da"
            ],
            [
             0.4,
             "#fde0ef"
            ],
            [
             0.5,
             "#f7f7f7"
            ],
            [
             0.6,
             "#e6f5d0"
            ],
            [
             0.7,
             "#b8e186"
            ],
            [
             0.8,
             "#7fbc41"
            ],
            [
             0.9,
             "#4d9221"
            ],
            [
             1,
             "#276419"
            ]
           ],
           "sequential": [
            [
             0,
             "#0d0887"
            ],
            [
             0.1111111111111111,
             "#46039f"
            ],
            [
             0.2222222222222222,
             "#7201a8"
            ],
            [
             0.3333333333333333,
             "#9c179e"
            ],
            [
             0.4444444444444444,
             "#bd3786"
            ],
            [
             0.5555555555555556,
             "#d8576b"
            ],
            [
             0.6666666666666666,
             "#ed7953"
            ],
            [
             0.7777777777777778,
             "#fb9f3a"
            ],
            [
             0.8888888888888888,
             "#fdca26"
            ],
            [
             1,
             "#f0f921"
            ]
           ],
           "sequentialminus": [
            [
             0,
             "#0d0887"
            ],
            [
             0.1111111111111111,
             "#46039f"
            ],
            [
             0.2222222222222222,
             "#7201a8"
            ],
            [
             0.3333333333333333,
             "#9c179e"
            ],
            [
             0.4444444444444444,
             "#bd3786"
            ],
            [
             0.5555555555555556,
             "#d8576b"
            ],
            [
             0.6666666666666666,
             "#ed7953"
            ],
            [
             0.7777777777777778,
             "#fb9f3a"
            ],
            [
             0.8888888888888888,
             "#fdca26"
            ],
            [
             1,
             "#f0f921"
            ]
           ]
          },
          "colorway": [
           "#636efa",
           "#EF553B",
           "#00cc96",
           "#ab63fa",
           "#FFA15A",
           "#19d3f3",
           "#FF6692",
           "#B6E880",
           "#FF97FF",
           "#FECB52"
          ],
          "font": {
           "color": "#2a3f5f"
          },
          "geo": {
           "bgcolor": "white",
           "lakecolor": "white",
           "landcolor": "#E5ECF6",
           "showlakes": true,
           "showland": true,
           "subunitcolor": "white"
          },
          "hoverlabel": {
           "align": "left"
          },
          "hovermode": "closest",
          "mapbox": {
           "style": "light"
          },
          "paper_bgcolor": "white",
          "plot_bgcolor": "#E5ECF6",
          "polar": {
           "angularaxis": {
            "gridcolor": "white",
            "linecolor": "white",
            "ticks": ""
           },
           "bgcolor": "#E5ECF6",
           "radialaxis": {
            "gridcolor": "white",
            "linecolor": "white",
            "ticks": ""
           }
          },
          "scene": {
           "xaxis": {
            "backgroundcolor": "#E5ECF6",
            "gridcolor": "white",
            "gridwidth": 2,
            "linecolor": "white",
            "showbackground": true,
            "ticks": "",
            "zerolinecolor": "white"
           },
           "yaxis": {
            "backgroundcolor": "#E5ECF6",
            "gridcolor": "white",
            "gridwidth": 2,
            "linecolor": "white",
            "showbackground": true,
            "ticks": "",
            "zerolinecolor": "white"
           },
           "zaxis": {
            "backgroundcolor": "#E5ECF6",
            "gridcolor": "white",
            "gridwidth": 2,
            "linecolor": "white",
            "showbackground": true,
            "ticks": "",
            "zerolinecolor": "white"
           }
          },
          "shapedefaults": {
           "line": {
            "color": "#2a3f5f"
           }
          },
          "ternary": {
           "aaxis": {
            "gridcolor": "white",
            "linecolor": "white",
            "ticks": ""
           },
           "baxis": {
            "gridcolor": "white",
            "linecolor": "white",
            "ticks": ""
           },
           "bgcolor": "#E5ECF6",
           "caxis": {
            "gridcolor": "white",
            "linecolor": "white",
            "ticks": ""
           }
          },
          "title": {
           "x": 0.05
          },
          "xaxis": {
           "automargin": true,
           "gridcolor": "white",
           "linecolor": "white",
           "ticks": "",
           "title": {
            "standoff": 15
           },
           "zerolinecolor": "white",
           "zerolinewidth": 2
          },
          "yaxis": {
           "automargin": true,
           "gridcolor": "white",
           "linecolor": "white",
           "ticks": "",
           "title": {
            "standoff": 15
           },
           "zerolinecolor": "white",
           "zerolinewidth": 2
          }
         }
        },
        "title": {
         "font": {
          "size": 30
         },
         "text": "Porcentaje de felicidad en España",
         "x": 0.5
        },
        "xaxis": {
         "anchor": "y",
         "domain": [
          0,
          1
         ],
         "title": {
          "text": ""
         }
        },
        "yaxis": {
         "anchor": "x",
         "domain": [
          0,
          1
         ],
         "range": [
          0,
          90
         ],
         "title": {
          "text": " "
         }
        }
       }
      }
     },
     "metadata": {},
     "output_type": "display_data"
    }
   ],
   "source": [
    "fig = px.bar(data_felicidad.melt(id_vars='Sexo', var_name='Año', value_name='Felicidad'),\n",
    "             x='Año', y='Felicidad', color='Sexo',\n",
    "             labels={'Felicidad': ' ', 'Año': ''},\n",
    "             title='Porcentaje de felicidad en España',\n",
    "             height=500,\n",
    "             barmode='group',  \n",
    "             color_discrete_sequence=px.colors.qualitative.Set2)\n",
    "fig.update_layout(title_text='Porcentaje de felicidad en España', title_x=0.5, title_font=dict(size=30))\n",
    "fig.update_yaxes(range=[0, 90])\n",
    "fig.show()\n"
   ]
  },
  {
   "cell_type": "code",
   "execution_count": 319,
   "metadata": {},
   "outputs": [],
   "source": [
    "#fig.write_image(\"felicidad_sexo.png\")"
   ]
  },
  {
   "cell_type": "code",
   "execution_count": 320,
   "metadata": {},
   "outputs": [],
   "source": [
    "data_felicidad_sexo=data_felicidad.melt(id_vars='Sexo', var_name='Año', value_name='Porcentaje de felicidad')"
   ]
  },
  {
   "cell_type": "markdown",
   "metadata": {},
   "source": [
    "Análisis de los datos de felicidad por edad"
   ]
  },
  {
   "cell_type": "code",
   "execution_count": 321,
   "metadata": {},
   "outputs": [],
   "source": [
    "felicidad_es_edad = \"felicidad_espania_edades.csv\"\n",
    "datos_felicidad_es_edad = pd.read_csv(felicidad_es_edad, sep = \";\" , encoding='latin-1')\n",
    "# Años 2013/2018/2022 Clasificación por edad\n",
    "# Reemplazar comas por puntos en la columna 'Total'\n",
    "datos_felicidad_es_edad['Total'] = datos_felicidad_es_edad ['Total'].str.replace(',', '.')\n",
    "\n",
    "# Convertir la columna 'Total' a tipo de datos numérico (float)\n",
    "datos_felicidad_es_edad['Total'] = datos_felicidad_es_edad ['Total'].astype(float)\n",
    "#datos_felicidad_es_edad"
   ]
  },
  {
   "cell_type": "code",
   "execution_count": 322,
   "metadata": {},
   "outputs": [],
   "source": [
    "# Para agruparlos primero nos quedamos unicamente con el periodo 2013\n",
    "\n",
    "df_2013_edad = datos_felicidad_es_edad[datos_felicidad_es_edad['periodo'] == 2013]\n",
    "\n",
    "# Ahora vamos a crear 3 nuevos Df diviendo las edades en 3 grandes grupos \n",
    "\n",
    "edad_grupo_a = [ \"De 16 a 24 años\", \"De 25 a 34 años\", \"De 35 a 49 años\"]\n",
    "grupo_a = df_2013_edad[df_2013_edad[\"Edad\"].isin(edad_grupo_a)]\n",
    "edad_grupo_b = [ 'De 50 a 64 años']\n",
    "grupo_b = df_2013_edad[df_2013_edad['Edad'].isin(edad_grupo_b)]\n",
    "edad_grupo_c = ['De 65 y más años']\n",
    "grupo_c = df_2013_edad[df_2013_edad['Edad'].isin(edad_grupo_c)]\n",
    "\n",
    "# Dividimos cada grupo por la frecuencia = NUNCA (Solo lo hacemos en el de edad 16 a 49 años \n",
    "# ya que al estar formado por 3 subgrupos calculamos la media de los tres\")\n",
    "grupo_frecuencia_1 = grupo_a[grupo_a[\"Frecuencia\"]== \"Nunca\"]\n",
    "media_nunca = grupo_frecuencia_1[\"Total\"].mean()\n",
    "datos1= {\"Edad\": \"De 16 a 49 años\",\n",
    "        \"Frecuencia\": \"Nunca\",\n",
    "        \"Total\": media_nunca}\n",
    "df_2013_nunca= pd.DataFrame([datos1])\n",
    "\n",
    "# Dividimos cada grupo por la frecuencia = MUY AMENUDO\n",
    "grupo_frecuencia_2 = grupo_a[grupo_a[\"Frecuencia\"]== \"Muy a menudo\"]\n",
    "media_menudo = grupo_frecuencia_2[\"Total\"].mean()\n",
    "datos2= {\"Edad\": \"De 16 a 49 años\",\n",
    "        \"Frecuencia\": \"Muy a menudo\",\n",
    "        \"Total\": media_menudo}\n",
    "df_2013_menudo= pd.DataFrame([datos2])\n",
    "\n",
    "# Dividimos cada grupo por la frecuencia = ALGUNAS VECES \n",
    "\n",
    "grupo_frecuencia_3 = grupo_a[grupo_a[\"Frecuencia\"]== \"Algunas veces\"]\n",
    "media_algunas = grupo_frecuencia_3[\"Total\"].mean()    \n",
    "datos3= {\"Edad\": \"De 16 a 49 años\",\n",
    "        \"Frecuencia\": \"Algunas veces\",\n",
    "        \"Total\": media_algunas}\n",
    "df_2013_algunas= pd.DataFrame([datos3])\n",
    "\n",
    "df_2013_grupo_a   = pd.concat([df_2013_nunca,df_2013_algunas,df_2013_menudo], ignore_index=True)\n",
    "df_2013_grupo_a                      \n",
    "df_2013 = pd.concat([df_2013_grupo_a, grupo_b,grupo_c], ignore_index=True)\n",
    "df_2013 = df_2013.drop(columns=\"periodo\")\n",
    "df_2013_ordenado = df_2013.sort_values(by='Frecuencia') \n",
    "df_2013_ordenado\n",
    "# Nos quedaremos unicamente con la frecuencia \"Muy a menudo\" que representa nuestra con índice mas alto de felicidad\n",
    "df_felicidad_2013 = df_2013_ordenado[df_2013_ordenado[\"Frecuencia\"]==\"Muy a menudo\"]\n",
    "df_felicidad_2013 = df_felicidad_2013.drop(columns=[\"Frecuencia\"])\n",
    "#df_felicidad_2013"
   ]
  },
  {
   "cell_type": "code",
   "execution_count": 323,
   "metadata": {},
   "outputs": [],
   "source": [
    "# Para agruparlos primero nos quedamos unicamente con el periodo 2018\n",
    "\n",
    "df_2018_edad = datos_felicidad_es_edad[datos_felicidad_es_edad['periodo'] == 2018]\n",
    "\n",
    "# Ahora vamos a crear 3 nuevos Df diviendo las edades en 3 grandes grupos \n",
    "\n",
    "edad_grupo_a_1 = [ \"De 16 a 24 años\", \"De 25 a 34 años\", \"De 35 a 49 años\"]\n",
    "grupo_a_1 = df_2018_edad[df_2018_edad[\"Edad\"].isin(edad_grupo_a_1)]\n",
    "edad_grupo_b_1 = [ 'De 50 a 64 años']\n",
    "grupo_b_1 = df_2018_edad[df_2018_edad['Edad'].isin(edad_grupo_b_1)]\n",
    "edad_grupo_c_1 = ['De 65 y más años']\n",
    "grupo_c_1 = df_2018_edad[df_2018_edad['Edad'].isin(edad_grupo_c_1)]\n",
    "\n",
    "# Dividimos cada grupo por la frecuencia = NUNCA (Solo lo hacemos en el de edad 16 a 49 años \n",
    "# ya que al estar formado por 3 subgrupos calculamos la media de los tres\")\n",
    "grupo_frecuencia_4 = grupo_a_1[grupo_a_1[\"Frecuencia\"]== \"Nunca\"]\n",
    "media_nunca_1 = grupo_frecuencia_4[\"Total\"].mean()\n",
    "datos1_1= {\"Edad\": \"De 16 a 49 años\",\n",
    "        \"Frecuencia\": \"Nunca\",\n",
    "        \"Total\": media_nunca_1}\n",
    "df_2018_nunca= pd.DataFrame([datos1_1])\n",
    "\n",
    "# Dividimos cada grupo por la frecuencia = MUY AMENUDO\n",
    "grupo_frecuencia_5 = grupo_a_1[grupo_a_1[\"Frecuencia\"]== \"Muy a menudo\"]\n",
    "media_menudo_1 = grupo_frecuencia_5[\"Total\"].mean()\n",
    "datos2_1= {\"Edad\": \"De 16 a 49 años\",\n",
    "        \"Frecuencia\": \"Muy a menudo\",\n",
    "        \"Total\": media_menudo_1}\n",
    "df_2018_menudo= pd.DataFrame([datos2_1])\n",
    "\n",
    "# Dividimos cada grupo por la frecuencia = ALGUNAS VECES \n",
    "\n",
    "grupo_frecuencia_6 = grupo_a_1[grupo_a_1[\"Frecuencia\"]== \"Algunas veces\"]\n",
    "media_algunas_1 = grupo_frecuencia_6[\"Total\"].mean()    \n",
    "datos3_1= {\"Edad\": \"De 16 a 49 años\",\n",
    "        \"Frecuencia\": \"Algunas veces\",\n",
    "        \"Total\": media_algunas_1}\n",
    "df_2018_algunas= pd.DataFrame([datos3_1])\n",
    "\n",
    "df_2018_grupo_a   = pd.concat([df_2018_nunca,df_2018_algunas,df_2018_menudo], ignore_index=True)\n",
    "df_2018_grupo_a                      \n",
    "df_2018 = pd.concat([df_2018_grupo_a, grupo_b_1,grupo_c_1], ignore_index=True)\n",
    "df_2018 = df_2018.drop(columns=\"periodo\")\n",
    "df_2018_ordenado = df_2018.sort_values(by='Frecuencia') \n",
    "df_2018_ordenado\n",
    "# Nos quedaremos unicamente con la frecuencia \"Muy a menudo\" que representa nuestra con índice mas alto de felicidad\n",
    "df_felicidad_2018 = df_2018_ordenado[df_2018_ordenado[\"Frecuencia\"]==\"Muy a menudo\"]\n",
    "df_felicidad_2018 = df_felicidad_2018.drop(columns=[\"Frecuencia\"])\n",
    "#df_felicidad_2018"
   ]
  },
  {
   "cell_type": "code",
   "execution_count": 324,
   "metadata": {},
   "outputs": [],
   "source": [
    "# Para agruparlos primero nos quedamos unicamente con el periodo 2022\n",
    "\n",
    "df_2022_edad = datos_felicidad_es_edad[datos_felicidad_es_edad['periodo'] == 2022]\n",
    "\n",
    "# Ahora vamos a crear 3 nuevos Df diviendo las edades en 3 grandes grupos \n",
    "\n",
    "edad_grupo_a_2 = [\"De 16 a 24 años\", \"De 25 a 34 años\", \"De 35 a 49 años\"]\n",
    "grupo_a_2 = df_2022_edad[df_2022_edad[\"Edad\"].isin(edad_grupo_a_2)]\n",
    "edad_grupo_b_2 = ['De 50 a 64 años']\n",
    "grupo_b_2 = df_2022_edad[df_2022_edad['Edad'].isin(edad_grupo_b_2)]\n",
    "edad_grupo_c_2 = ['De 65 y más años']\n",
    "grupo_c_2 = df_2022_edad[df_2022_edad['Edad'].isin(edad_grupo_c_2)]\n",
    "\n",
    "# Dividimos cada grupo por la frecuencia = NUNCA (Solo lo hacemos en el de edad 16 a 49 años \n",
    "# ya que al estar formado por 3 subgrupos calculamos la media de los tres\")\n",
    "grupo_frecuencia_5 = grupo_a_2[grupo_a_2[\"Frecuencia\"]== \"Nunca\"]\n",
    "media_nunca_2 = grupo_frecuencia_5[\"Total\"].mean()\n",
    "datos1_2= {\"Edad\": \"De 16 a 49 años\",\n",
    "        \"Frecuencia\": \"Nunca\",\n",
    "        \"Total\": media_nunca_2}\n",
    "df_2022_nunca= pd.DataFrame([datos1_2])\n",
    "\n",
    "# Dividimos cada grupo por la frecuencia = MUY AMENUDO\n",
    "grupo_frecuencia_6 = grupo_a_2[grupo_a_2[\"Frecuencia\"]== \"Muy a menudo\"]\n",
    "media_menudo_2 = grupo_frecuencia_6[\"Total\"].mean()\n",
    "datos2_2= {\"Edad\": \"De 16 a 49 años\",\n",
    "        \"Frecuencia\": \"Muy a menudo\",\n",
    "        \"Total\": media_menudo_2}\n",
    "df_2022_menudo= pd.DataFrame([datos2_2])\n",
    "\n",
    "# Dividimos cada grupo por la frecuencia = ALGUNAS VECES \n",
    "\n",
    "grupo_frecuencia_7 = grupo_a_2[grupo_a_2[\"Frecuencia\"]== \"Algunas veces\"]\n",
    "media_algunas_2 = grupo_frecuencia_7[\"Total\"].mean()    \n",
    "datos3_2= {\"Edad\": \"De 16 a 49 años\",\n",
    "        \"Frecuencia\": \"Algunas veces\",\n",
    "        \"Total\": media_algunas_2}\n",
    "df_2022_algunas= pd.DataFrame([datos3_2])\n",
    "\n",
    "df_2022_grupo_a   = pd.concat([df_2022_nunca,df_2022_algunas,df_2022_menudo], ignore_index=True)\n",
    "df_2022_grupo_a                      \n",
    "df_2022 = pd.concat([df_2022_grupo_a, grupo_b_2,grupo_c_2], ignore_index=True)\n",
    "df_2022 = df_2022.drop(columns=\"periodo\")\n",
    "df_2022_ordenado = df_2022.sort_values(by='Frecuencia') \n",
    "df_2022_ordenado\n",
    "# Nos quedaremos unicamente con la frecuencia \"Muy a menudo\" que representa nuestra con índice mas alto de felicidad\n",
    "df_felicidad_2022 = df_2022_ordenado[df_2022_ordenado[\"Frecuencia\"]==\"Muy a menudo\"]\n",
    "df_felicidad_2022 = df_felicidad_2022.drop(columns=[\"Frecuencia\"])\n",
    "#df_felicidad_2022"
   ]
  },
  {
   "cell_type": "code",
   "execution_count": 325,
   "metadata": {},
   "outputs": [],
   "source": [
    "df_felicidad_2013.rename(columns={'Total': '2013'}, inplace=True)\n",
    "df_felicidad_2018.rename(columns={'Total': '2018'}, inplace=True)\n",
    "df_felicidad_2022.rename(columns={'Total': '2022'}, inplace=True)\n",
    "data_felicidad_edad = pd.merge(df_felicidad_2013, df_felicidad_2018, on='Edad').merge(df_felicidad_2022, on=\"Edad\")\n",
    "#data_felicidad_edad"
   ]
  },
  {
   "cell_type": "code",
   "execution_count": 326,
   "metadata": {},
   "outputs": [
    {
     "data": {
      "application/vnd.plotly.v1+json": {
       "config": {
        "plotlyServerURL": "https://plot.ly"
       },
       "data": [
        {
         "alignmentgroup": "True",
         "hovertemplate": "Año=2013<br> =%{y}<extra></extra>",
         "legendgroup": "2013",
         "marker": {
          "color": "#FA0087",
          "pattern": {
           "shape": ""
          }
         },
         "name": "2013",
         "offsetgroup": "2013",
         "orientation": "v",
         "showlegend": true,
         "textposition": "auto",
         "type": "bar",
         "x": [
          "De 16 a 49 años",
          "De 50 a 64 años",
          "De 65 y más años"
         ],
         "xaxis": "x",
         "y": [
          69.23333333333333,
          57.7,
          62.2
         ],
         "yaxis": "y"
        },
        {
         "alignmentgroup": "True",
         "hovertemplate": "Año=2018<br> =%{y}<extra></extra>",
         "legendgroup": "2018",
         "marker": {
          "color": "#FBE426",
          "pattern": {
           "shape": ""
          }
         },
         "name": "2018",
         "offsetgroup": "2018",
         "orientation": "v",
         "showlegend": true,
         "textposition": "auto",
         "type": "bar",
         "x": [
          "De 16 a 49 años",
          "De 50 a 64 años",
          "De 65 y más años"
         ],
         "xaxis": "x",
         "y": [
          79.5,
          67,
          61.3
         ],
         "yaxis": "y"
        },
        {
         "alignmentgroup": "True",
         "hovertemplate": "Año=2022<br> =%{y}<extra></extra>",
         "legendgroup": "2022",
         "marker": {
          "color": "#B00068",
          "pattern": {
           "shape": ""
          }
         },
         "name": "2022",
         "offsetgroup": "2022",
         "orientation": "v",
         "showlegend": true,
         "textposition": "auto",
         "type": "bar",
         "x": [
          "De 16 a 49 años",
          "De 50 a 64 años",
          "De 65 y más años"
         ],
         "xaxis": "x",
         "y": [
          73,
          63.4,
          62.5
         ],
         "yaxis": "y"
        }
       ],
       "layout": {
        "barmode": "group",
        "height": 500,
        "legend": {
         "title": {
          "text": "Año"
         },
         "tracegroupgap": 0
        },
        "template": {
         "data": {
          "bar": [
           {
            "error_x": {
             "color": "#2a3f5f"
            },
            "error_y": {
             "color": "#2a3f5f"
            },
            "marker": {
             "line": {
              "color": "#E5ECF6",
              "width": 0.5
             },
             "pattern": {
              "fillmode": "overlay",
              "size": 10,
              "solidity": 0.2
             }
            },
            "type": "bar"
           }
          ],
          "barpolar": [
           {
            "marker": {
             "line": {
              "color": "#E5ECF6",
              "width": 0.5
             },
             "pattern": {
              "fillmode": "overlay",
              "size": 10,
              "solidity": 0.2
             }
            },
            "type": "barpolar"
           }
          ],
          "carpet": [
           {
            "aaxis": {
             "endlinecolor": "#2a3f5f",
             "gridcolor": "white",
             "linecolor": "white",
             "minorgridcolor": "white",
             "startlinecolor": "#2a3f5f"
            },
            "baxis": {
             "endlinecolor": "#2a3f5f",
             "gridcolor": "white",
             "linecolor": "white",
             "minorgridcolor": "white",
             "startlinecolor": "#2a3f5f"
            },
            "type": "carpet"
           }
          ],
          "choropleth": [
           {
            "colorbar": {
             "outlinewidth": 0,
             "ticks": ""
            },
            "type": "choropleth"
           }
          ],
          "contour": [
           {
            "colorbar": {
             "outlinewidth": 0,
             "ticks": ""
            },
            "colorscale": [
             [
              0,
              "#0d0887"
             ],
             [
              0.1111111111111111,
              "#46039f"
             ],
             [
              0.2222222222222222,
              "#7201a8"
             ],
             [
              0.3333333333333333,
              "#9c179e"
             ],
             [
              0.4444444444444444,
              "#bd3786"
             ],
             [
              0.5555555555555556,
              "#d8576b"
             ],
             [
              0.6666666666666666,
              "#ed7953"
             ],
             [
              0.7777777777777778,
              "#fb9f3a"
             ],
             [
              0.8888888888888888,
              "#fdca26"
             ],
             [
              1,
              "#f0f921"
             ]
            ],
            "type": "contour"
           }
          ],
          "contourcarpet": [
           {
            "colorbar": {
             "outlinewidth": 0,
             "ticks": ""
            },
            "type": "contourcarpet"
           }
          ],
          "heatmap": [
           {
            "colorbar": {
             "outlinewidth": 0,
             "ticks": ""
            },
            "colorscale": [
             [
              0,
              "#0d0887"
             ],
             [
              0.1111111111111111,
              "#46039f"
             ],
             [
              0.2222222222222222,
              "#7201a8"
             ],
             [
              0.3333333333333333,
              "#9c179e"
             ],
             [
              0.4444444444444444,
              "#bd3786"
             ],
             [
              0.5555555555555556,
              "#d8576b"
             ],
             [
              0.6666666666666666,
              "#ed7953"
             ],
             [
              0.7777777777777778,
              "#fb9f3a"
             ],
             [
              0.8888888888888888,
              "#fdca26"
             ],
             [
              1,
              "#f0f921"
             ]
            ],
            "type": "heatmap"
           }
          ],
          "heatmapgl": [
           {
            "colorbar": {
             "outlinewidth": 0,
             "ticks": ""
            },
            "colorscale": [
             [
              0,
              "#0d0887"
             ],
             [
              0.1111111111111111,
              "#46039f"
             ],
             [
              0.2222222222222222,
              "#7201a8"
             ],
             [
              0.3333333333333333,
              "#9c179e"
             ],
             [
              0.4444444444444444,
              "#bd3786"
             ],
             [
              0.5555555555555556,
              "#d8576b"
             ],
             [
              0.6666666666666666,
              "#ed7953"
             ],
             [
              0.7777777777777778,
              "#fb9f3a"
             ],
             [
              0.8888888888888888,
              "#fdca26"
             ],
             [
              1,
              "#f0f921"
             ]
            ],
            "type": "heatmapgl"
           }
          ],
          "histogram": [
           {
            "marker": {
             "pattern": {
              "fillmode": "overlay",
              "size": 10,
              "solidity": 0.2
             }
            },
            "type": "histogram"
           }
          ],
          "histogram2d": [
           {
            "colorbar": {
             "outlinewidth": 0,
             "ticks": ""
            },
            "colorscale": [
             [
              0,
              "#0d0887"
             ],
             [
              0.1111111111111111,
              "#46039f"
             ],
             [
              0.2222222222222222,
              "#7201a8"
             ],
             [
              0.3333333333333333,
              "#9c179e"
             ],
             [
              0.4444444444444444,
              "#bd3786"
             ],
             [
              0.5555555555555556,
              "#d8576b"
             ],
             [
              0.6666666666666666,
              "#ed7953"
             ],
             [
              0.7777777777777778,
              "#fb9f3a"
             ],
             [
              0.8888888888888888,
              "#fdca26"
             ],
             [
              1,
              "#f0f921"
             ]
            ],
            "type": "histogram2d"
           }
          ],
          "histogram2dcontour": [
           {
            "colorbar": {
             "outlinewidth": 0,
             "ticks": ""
            },
            "colorscale": [
             [
              0,
              "#0d0887"
             ],
             [
              0.1111111111111111,
              "#46039f"
             ],
             [
              0.2222222222222222,
              "#7201a8"
             ],
             [
              0.3333333333333333,
              "#9c179e"
             ],
             [
              0.4444444444444444,
              "#bd3786"
             ],
             [
              0.5555555555555556,
              "#d8576b"
             ],
             [
              0.6666666666666666,
              "#ed7953"
             ],
             [
              0.7777777777777778,
              "#fb9f3a"
             ],
             [
              0.8888888888888888,
              "#fdca26"
             ],
             [
              1,
              "#f0f921"
             ]
            ],
            "type": "histogram2dcontour"
           }
          ],
          "mesh3d": [
           {
            "colorbar": {
             "outlinewidth": 0,
             "ticks": ""
            },
            "type": "mesh3d"
           }
          ],
          "parcoords": [
           {
            "line": {
             "colorbar": {
              "outlinewidth": 0,
              "ticks": ""
             }
            },
            "type": "parcoords"
           }
          ],
          "pie": [
           {
            "automargin": true,
            "type": "pie"
           }
          ],
          "scatter": [
           {
            "fillpattern": {
             "fillmode": "overlay",
             "size": 10,
             "solidity": 0.2
            },
            "type": "scatter"
           }
          ],
          "scatter3d": [
           {
            "line": {
             "colorbar": {
              "outlinewidth": 0,
              "ticks": ""
             }
            },
            "marker": {
             "colorbar": {
              "outlinewidth": 0,
              "ticks": ""
             }
            },
            "type": "scatter3d"
           }
          ],
          "scattercarpet": [
           {
            "marker": {
             "colorbar": {
              "outlinewidth": 0,
              "ticks": ""
             }
            },
            "type": "scattercarpet"
           }
          ],
          "scattergeo": [
           {
            "marker": {
             "colorbar": {
              "outlinewidth": 0,
              "ticks": ""
             }
            },
            "type": "scattergeo"
           }
          ],
          "scattergl": [
           {
            "marker": {
             "colorbar": {
              "outlinewidth": 0,
              "ticks": ""
             }
            },
            "type": "scattergl"
           }
          ],
          "scattermapbox": [
           {
            "marker": {
             "colorbar": {
              "outlinewidth": 0,
              "ticks": ""
             }
            },
            "type": "scattermapbox"
           }
          ],
          "scatterpolar": [
           {
            "marker": {
             "colorbar": {
              "outlinewidth": 0,
              "ticks": ""
             }
            },
            "type": "scatterpolar"
           }
          ],
          "scatterpolargl": [
           {
            "marker": {
             "colorbar": {
              "outlinewidth": 0,
              "ticks": ""
             }
            },
            "type": "scatterpolargl"
           }
          ],
          "scatterternary": [
           {
            "marker": {
             "colorbar": {
              "outlinewidth": 0,
              "ticks": ""
             }
            },
            "type": "scatterternary"
           }
          ],
          "surface": [
           {
            "colorbar": {
             "outlinewidth": 0,
             "ticks": ""
            },
            "colorscale": [
             [
              0,
              "#0d0887"
             ],
             [
              0.1111111111111111,
              "#46039f"
             ],
             [
              0.2222222222222222,
              "#7201a8"
             ],
             [
              0.3333333333333333,
              "#9c179e"
             ],
             [
              0.4444444444444444,
              "#bd3786"
             ],
             [
              0.5555555555555556,
              "#d8576b"
             ],
             [
              0.6666666666666666,
              "#ed7953"
             ],
             [
              0.7777777777777778,
              "#fb9f3a"
             ],
             [
              0.8888888888888888,
              "#fdca26"
             ],
             [
              1,
              "#f0f921"
             ]
            ],
            "type": "surface"
           }
          ],
          "table": [
           {
            "cells": {
             "fill": {
              "color": "#EBF0F8"
             },
             "line": {
              "color": "white"
             }
            },
            "header": {
             "fill": {
              "color": "#C8D4E3"
             },
             "line": {
              "color": "white"
             }
            },
            "type": "table"
           }
          ]
         },
         "layout": {
          "annotationdefaults": {
           "arrowcolor": "#2a3f5f",
           "arrowhead": 0,
           "arrowwidth": 1
          },
          "autotypenumbers": "strict",
          "coloraxis": {
           "colorbar": {
            "outlinewidth": 0,
            "ticks": ""
           }
          },
          "colorscale": {
           "diverging": [
            [
             0,
             "#8e0152"
            ],
            [
             0.1,
             "#c51b7d"
            ],
            [
             0.2,
             "#de77ae"
            ],
            [
             0.3,
             "#f1b6da"
            ],
            [
             0.4,
             "#fde0ef"
            ],
            [
             0.5,
             "#f7f7f7"
            ],
            [
             0.6,
             "#e6f5d0"
            ],
            [
             0.7,
             "#b8e186"
            ],
            [
             0.8,
             "#7fbc41"
            ],
            [
             0.9,
             "#4d9221"
            ],
            [
             1,
             "#276419"
            ]
           ],
           "sequential": [
            [
             0,
             "#0d0887"
            ],
            [
             0.1111111111111111,
             "#46039f"
            ],
            [
             0.2222222222222222,
             "#7201a8"
            ],
            [
             0.3333333333333333,
             "#9c179e"
            ],
            [
             0.4444444444444444,
             "#bd3786"
            ],
            [
             0.5555555555555556,
             "#d8576b"
            ],
            [
             0.6666666666666666,
             "#ed7953"
            ],
            [
             0.7777777777777778,
             "#fb9f3a"
            ],
            [
             0.8888888888888888,
             "#fdca26"
            ],
            [
             1,
             "#f0f921"
            ]
           ],
           "sequentialminus": [
            [
             0,
             "#0d0887"
            ],
            [
             0.1111111111111111,
             "#46039f"
            ],
            [
             0.2222222222222222,
             "#7201a8"
            ],
            [
             0.3333333333333333,
             "#9c179e"
            ],
            [
             0.4444444444444444,
             "#bd3786"
            ],
            [
             0.5555555555555556,
             "#d8576b"
            ],
            [
             0.6666666666666666,
             "#ed7953"
            ],
            [
             0.7777777777777778,
             "#fb9f3a"
            ],
            [
             0.8888888888888888,
             "#fdca26"
            ],
            [
             1,
             "#f0f921"
            ]
           ]
          },
          "colorway": [
           "#636efa",
           "#EF553B",
           "#00cc96",
           "#ab63fa",
           "#FFA15A",
           "#19d3f3",
           "#FF6692",
           "#B6E880",
           "#FF97FF",
           "#FECB52"
          ],
          "font": {
           "color": "#2a3f5f"
          },
          "geo": {
           "bgcolor": "white",
           "lakecolor": "white",
           "landcolor": "#E5ECF6",
           "showlakes": true,
           "showland": true,
           "subunitcolor": "white"
          },
          "hoverlabel": {
           "align": "left"
          },
          "hovermode": "closest",
          "mapbox": {
           "style": "light"
          },
          "paper_bgcolor": "white",
          "plot_bgcolor": "#E5ECF6",
          "polar": {
           "angularaxis": {
            "gridcolor": "white",
            "linecolor": "white",
            "ticks": ""
           },
           "bgcolor": "#E5ECF6",
           "radialaxis": {
            "gridcolor": "white",
            "linecolor": "white",
            "ticks": ""
           }
          },
          "scene": {
           "xaxis": {
            "backgroundcolor": "#E5ECF6",
            "gridcolor": "white",
            "gridwidth": 2,
            "linecolor": "white",
            "showbackground": true,
            "ticks": "",
            "zerolinecolor": "white"
           },
           "yaxis": {
            "backgroundcolor": "#E5ECF6",
            "gridcolor": "white",
            "gridwidth": 2,
            "linecolor": "white",
            "showbackground": true,
            "ticks": "",
            "zerolinecolor": "white"
           },
           "zaxis": {
            "backgroundcolor": "#E5ECF6",
            "gridcolor": "white",
            "gridwidth": 2,
            "linecolor": "white",
            "showbackground": true,
            "ticks": "",
            "zerolinecolor": "white"
           }
          },
          "shapedefaults": {
           "line": {
            "color": "#2a3f5f"
           }
          },
          "ternary": {
           "aaxis": {
            "gridcolor": "white",
            "linecolor": "white",
            "ticks": ""
           },
           "baxis": {
            "gridcolor": "white",
            "linecolor": "white",
            "ticks": ""
           },
           "bgcolor": "#E5ECF6",
           "caxis": {
            "gridcolor": "white",
            "linecolor": "white",
            "ticks": ""
           }
          },
          "title": {
           "x": 0.05
          },
          "xaxis": {
           "automargin": true,
           "gridcolor": "white",
           "linecolor": "white",
           "ticks": "",
           "title": {
            "standoff": 15
           },
           "zerolinecolor": "white",
           "zerolinewidth": 2
          },
          "yaxis": {
           "automargin": true,
           "gridcolor": "white",
           "linecolor": "white",
           "ticks": "",
           "title": {
            "standoff": 15
           },
           "zerolinecolor": "white",
           "zerolinewidth": 2
          }
         }
        },
        "title": {
         "font": {
          "size": 30
         },
         "text": "Porcentaje de felicidad por edad",
         "x": 0.5
        },
        "xaxis": {
         "anchor": "y",
         "domain": [
          0,
          1
         ],
         "title": {
          "text": " "
         }
        },
        "yaxis": {
         "anchor": "x",
         "domain": [
          0,
          1
         ],
         "title": {
          "text": " "
         }
        }
       }
      }
     },
     "metadata": {},
     "output_type": "display_data"
    }
   ],
   "source": [
    "fig = px.bar(data_felicidad_edad.melt(id_vars='Edad', var_name='Año', value_name='Felicidad'),\n",
    "             x='Edad', y='Felicidad', color='Año',\n",
    "             labels={'Felicidad': ' ', 'Edad': ' '},\n",
    "             title='Porcentaje de felicidad por edad',\n",
    "             height=500,\n",
    "             barmode='group', \n",
    "             color_discrete_sequence=px.colors.qualitative.Alphabet_r)\n",
    "\n",
    "fig.update_layout(title_text='Porcentaje de felicidad por edad', title_x=0.5, title_font=dict(size=30))\n",
    "\n",
    "fig.show()\n"
   ]
  },
  {
   "cell_type": "code",
   "execution_count": 327,
   "metadata": {},
   "outputs": [],
   "source": [
    "#fig.write_image(\"felicidad_edad.png\")"
   ]
  },
  {
   "cell_type": "markdown",
   "metadata": {},
   "source": [
    "Suicidios"
   ]
  },
  {
   "cell_type": "code",
   "execution_count": 328,
   "metadata": {},
   "outputs": [],
   "source": [
    "#Para tener una vision general, observamos los datos \n",
    " # Año 2013 =Total de suicidios 3870 ( 2911 Hombres - 959  Mujeres)\n",
    " # Año 201 =Total de suicidios 3539 ( 2619 Hombres - 920  Mujeres)\n",
    " # Año 2013 =Total de suicidios 4227 ( 3126 Hombres - 1101  Mujeres)"
   ]
  },
  {
   "cell_type": "markdown",
   "metadata": {},
   "source": [
    "Suicidio 2013"
   ]
  },
  {
   "cell_type": "code",
   "execution_count": 329,
   "metadata": {},
   "outputs": [],
   "source": [
    "data_suicidios_2013 = \"suicidios_2013.csv\"\n",
    "suicidios_2013 = pd.read_csv(data_suicidios_2013, sep = \";\")\n",
    "menores_total = 9 # Valor correspondiente a los suicidios de menores de 15 años\n",
    "menores_hombres = 6 # Valor correspondiente a los suicidios de menores de 15 años hombres \n",
    "menores_mujeres = 3 # Valor correspondiente a los suicidios de menores de 15 años mujeres\n",
    "suicidios_2013.at[0, 'Total'] -= menores_total  # Le restamos los suicidios de menores de 15 años para que no modifique los datos \n",
    "suicidios_2013.at[1, 'Total'] -= menores_hombres\n",
    "suicidios_2013.at[2, 'Total'] -= menores_mujeres\n",
    "suicidios_2013_1 = suicidios_2013.drop([3,4,5]) # Eliminamos las 3 primeras filas"
   ]
  },
  {
   "cell_type": "code",
   "execution_count": 330,
   "metadata": {},
   "outputs": [
    {
     "data": {
      "text/html": [
       "<div>\n",
       "<style scoped>\n",
       "    .dataframe tbody tr th:only-of-type {\n",
       "        vertical-align: middle;\n",
       "    }\n",
       "\n",
       "    .dataframe tbody tr th {\n",
       "        vertical-align: top;\n",
       "    }\n",
       "\n",
       "    .dataframe thead th {\n",
       "        text-align: right;\n",
       "    }\n",
       "</style>\n",
       "<table border=\"1\" class=\"dataframe\">\n",
       "  <thead>\n",
       "    <tr style=\"text-align: right;\">\n",
       "      <th></th>\n",
       "      <th>Edad</th>\n",
       "      <th>Sexo</th>\n",
       "      <th>Total</th>\n",
       "    </tr>\n",
       "  </thead>\n",
       "  <tbody>\n",
       "    <tr>\n",
       "      <th>0</th>\n",
       "      <td>Todas las edades</td>\n",
       "      <td>Ambos sexos</td>\n",
       "      <td>3861</td>\n",
       "    </tr>\n",
       "    <tr>\n",
       "      <th>1</th>\n",
       "      <td>Todas las edades</td>\n",
       "      <td>Hombres</td>\n",
       "      <td>2905</td>\n",
       "    </tr>\n",
       "    <tr>\n",
       "      <th>2</th>\n",
       "      <td>Todas las edades</td>\n",
       "      <td>Mujeres</td>\n",
       "      <td>956</td>\n",
       "    </tr>\n",
       "    <tr>\n",
       "      <th>3</th>\n",
       "      <td>Menores de 15 años</td>\n",
       "      <td>Ambos sexos</td>\n",
       "      <td>9</td>\n",
       "    </tr>\n",
       "    <tr>\n",
       "      <th>4</th>\n",
       "      <td>Menores de 15 años</td>\n",
       "      <td>Hombres</td>\n",
       "      <td>6</td>\n",
       "    </tr>\n",
       "    <tr>\n",
       "      <th>5</th>\n",
       "      <td>Menores de 15 años</td>\n",
       "      <td>Mujeres</td>\n",
       "      <td>3</td>\n",
       "    </tr>\n",
       "    <tr>\n",
       "      <th>6</th>\n",
       "      <td>De 15 a 29 años</td>\n",
       "      <td>Ambos sexos</td>\n",
       "      <td>301</td>\n",
       "    </tr>\n",
       "    <tr>\n",
       "      <th>7</th>\n",
       "      <td>De 15 a 29 años</td>\n",
       "      <td>Hombres</td>\n",
       "      <td>225</td>\n",
       "    </tr>\n",
       "    <tr>\n",
       "      <th>8</th>\n",
       "      <td>De 15 a 29 años</td>\n",
       "      <td>Mujeres</td>\n",
       "      <td>76</td>\n",
       "    </tr>\n",
       "    <tr>\n",
       "      <th>9</th>\n",
       "      <td>De 30 a 39 años</td>\n",
       "      <td>Ambos sexos</td>\n",
       "      <td>518</td>\n",
       "    </tr>\n",
       "    <tr>\n",
       "      <th>10</th>\n",
       "      <td>De 30 a 39 años</td>\n",
       "      <td>Hombres</td>\n",
       "      <td>395</td>\n",
       "    </tr>\n",
       "    <tr>\n",
       "      <th>11</th>\n",
       "      <td>De 30 a 39 años</td>\n",
       "      <td>Mujeres</td>\n",
       "      <td>123</td>\n",
       "    </tr>\n",
       "    <tr>\n",
       "      <th>12</th>\n",
       "      <td>De 40 a 44 años</td>\n",
       "      <td>Ambos sexos</td>\n",
       "      <td>379</td>\n",
       "    </tr>\n",
       "    <tr>\n",
       "      <th>13</th>\n",
       "      <td>De 40 a 44 años</td>\n",
       "      <td>Hombres</td>\n",
       "      <td>285</td>\n",
       "    </tr>\n",
       "    <tr>\n",
       "      <th>14</th>\n",
       "      <td>De 40 a 44 años</td>\n",
       "      <td>Mujeres</td>\n",
       "      <td>94</td>\n",
       "    </tr>\n",
       "    <tr>\n",
       "      <th>15</th>\n",
       "      <td>De 45 a 49 años</td>\n",
       "      <td>Ambos sexos</td>\n",
       "      <td>412</td>\n",
       "    </tr>\n",
       "    <tr>\n",
       "      <th>16</th>\n",
       "      <td>De 45 a 49 años</td>\n",
       "      <td>Hombres</td>\n",
       "      <td>319</td>\n",
       "    </tr>\n",
       "    <tr>\n",
       "      <th>17</th>\n",
       "      <td>De 45 a 49 años</td>\n",
       "      <td>Mujeres</td>\n",
       "      <td>93</td>\n",
       "    </tr>\n",
       "    <tr>\n",
       "      <th>18</th>\n",
       "      <td>De 50 a 54 años</td>\n",
       "      <td>Ambos sexos</td>\n",
       "      <td>450</td>\n",
       "    </tr>\n",
       "    <tr>\n",
       "      <th>19</th>\n",
       "      <td>De 50 a 54 años</td>\n",
       "      <td>Hombres</td>\n",
       "      <td>340</td>\n",
       "    </tr>\n",
       "    <tr>\n",
       "      <th>20</th>\n",
       "      <td>De 50 a 54 años</td>\n",
       "      <td>Mujeres</td>\n",
       "      <td>110</td>\n",
       "    </tr>\n",
       "    <tr>\n",
       "      <th>21</th>\n",
       "      <td>De 55 a 59 años</td>\n",
       "      <td>Ambos sexos</td>\n",
       "      <td>324</td>\n",
       "    </tr>\n",
       "    <tr>\n",
       "      <th>22</th>\n",
       "      <td>De 55 a 59 años</td>\n",
       "      <td>Hombres</td>\n",
       "      <td>237</td>\n",
       "    </tr>\n",
       "    <tr>\n",
       "      <th>23</th>\n",
       "      <td>De 55 a 59 años</td>\n",
       "      <td>Mujeres</td>\n",
       "      <td>87</td>\n",
       "    </tr>\n",
       "    <tr>\n",
       "      <th>24</th>\n",
       "      <td>De 60 a 64 años</td>\n",
       "      <td>Ambos sexos</td>\n",
       "      <td>270</td>\n",
       "    </tr>\n",
       "    <tr>\n",
       "      <th>25</th>\n",
       "      <td>De 60 a 64 años</td>\n",
       "      <td>Hombres</td>\n",
       "      <td>205</td>\n",
       "    </tr>\n",
       "    <tr>\n",
       "      <th>26</th>\n",
       "      <td>De 60 a 64 años</td>\n",
       "      <td>Mujeres</td>\n",
       "      <td>65</td>\n",
       "    </tr>\n",
       "    <tr>\n",
       "      <th>27</th>\n",
       "      <td>De 65 a 69 años</td>\n",
       "      <td>Ambos sexos</td>\n",
       "      <td>257</td>\n",
       "    </tr>\n",
       "    <tr>\n",
       "      <th>28</th>\n",
       "      <td>De 65 a 69 años</td>\n",
       "      <td>Hombres</td>\n",
       "      <td>187</td>\n",
       "    </tr>\n",
       "    <tr>\n",
       "      <th>29</th>\n",
       "      <td>De 65 a 69 años</td>\n",
       "      <td>Mujeres</td>\n",
       "      <td>70</td>\n",
       "    </tr>\n",
       "    <tr>\n",
       "      <th>30</th>\n",
       "      <td>De 70 a 74 años</td>\n",
       "      <td>Ambos sexos</td>\n",
       "      <td>247</td>\n",
       "    </tr>\n",
       "    <tr>\n",
       "      <th>31</th>\n",
       "      <td>De 70 a 74 años</td>\n",
       "      <td>Hombres</td>\n",
       "      <td>182</td>\n",
       "    </tr>\n",
       "    <tr>\n",
       "      <th>32</th>\n",
       "      <td>De 70 a 74 años</td>\n",
       "      <td>Mujeres</td>\n",
       "      <td>65</td>\n",
       "    </tr>\n",
       "    <tr>\n",
       "      <th>33</th>\n",
       "      <td>De 75 a 79 años</td>\n",
       "      <td>Ambos sexos</td>\n",
       "      <td>254</td>\n",
       "    </tr>\n",
       "    <tr>\n",
       "      <th>34</th>\n",
       "      <td>De 75 a 79 años</td>\n",
       "      <td>Hombres</td>\n",
       "      <td>181</td>\n",
       "    </tr>\n",
       "    <tr>\n",
       "      <th>35</th>\n",
       "      <td>De 75 a 79 años</td>\n",
       "      <td>Mujeres</td>\n",
       "      <td>73</td>\n",
       "    </tr>\n",
       "    <tr>\n",
       "      <th>36</th>\n",
       "      <td>De 80 a 84 años</td>\n",
       "      <td>Ambos sexos</td>\n",
       "      <td>257</td>\n",
       "    </tr>\n",
       "    <tr>\n",
       "      <th>37</th>\n",
       "      <td>De 80 a 84 años</td>\n",
       "      <td>Hombres</td>\n",
       "      <td>203</td>\n",
       "    </tr>\n",
       "    <tr>\n",
       "      <th>38</th>\n",
       "      <td>De 80 a 84 años</td>\n",
       "      <td>Mujeres</td>\n",
       "      <td>54</td>\n",
       "    </tr>\n",
       "    <tr>\n",
       "      <th>39</th>\n",
       "      <td>De 85 a 89 años</td>\n",
       "      <td>Ambos sexos</td>\n",
       "      <td>137</td>\n",
       "    </tr>\n",
       "    <tr>\n",
       "      <th>40</th>\n",
       "      <td>De 85 a 89 años</td>\n",
       "      <td>Hombres</td>\n",
       "      <td>106</td>\n",
       "    </tr>\n",
       "    <tr>\n",
       "      <th>41</th>\n",
       "      <td>De 85 a 89 años</td>\n",
       "      <td>Mujeres</td>\n",
       "      <td>31</td>\n",
       "    </tr>\n",
       "    <tr>\n",
       "      <th>42</th>\n",
       "      <td>De 90 a 94 años</td>\n",
       "      <td>Ambos sexos</td>\n",
       "      <td>45</td>\n",
       "    </tr>\n",
       "    <tr>\n",
       "      <th>43</th>\n",
       "      <td>De 90 a 94 años</td>\n",
       "      <td>Hombres</td>\n",
       "      <td>35</td>\n",
       "    </tr>\n",
       "    <tr>\n",
       "      <th>44</th>\n",
       "      <td>De 90 a 94 años</td>\n",
       "      <td>Mujeres</td>\n",
       "      <td>10</td>\n",
       "    </tr>\n",
       "    <tr>\n",
       "      <th>45</th>\n",
       "      <td>De 95 años y más</td>\n",
       "      <td>Ambos sexos</td>\n",
       "      <td>10</td>\n",
       "    </tr>\n",
       "    <tr>\n",
       "      <th>46</th>\n",
       "      <td>De 95 años y más</td>\n",
       "      <td>Hombres</td>\n",
       "      <td>5</td>\n",
       "    </tr>\n",
       "    <tr>\n",
       "      <th>47</th>\n",
       "      <td>De 95 años y más</td>\n",
       "      <td>Mujeres</td>\n",
       "      <td>5</td>\n",
       "    </tr>\n",
       "  </tbody>\n",
       "</table>\n",
       "</div>"
      ],
      "text/plain": [
       "                  Edad         Sexo  Total\n",
       "0     Todas las edades  Ambos sexos   3861\n",
       "1     Todas las edades      Hombres   2905\n",
       "2     Todas las edades      Mujeres    956\n",
       "3   Menores de 15 años  Ambos sexos      9\n",
       "4   Menores de 15 años      Hombres      6\n",
       "5   Menores de 15 años      Mujeres      3\n",
       "6      De 15 a 29 años  Ambos sexos    301\n",
       "7      De 15 a 29 años      Hombres    225\n",
       "8      De 15 a 29 años      Mujeres     76\n",
       "9      De 30 a 39 años  Ambos sexos    518\n",
       "10     De 30 a 39 años      Hombres    395\n",
       "11     De 30 a 39 años      Mujeres    123\n",
       "12     De 40 a 44 años  Ambos sexos    379\n",
       "13     De 40 a 44 años      Hombres    285\n",
       "14     De 40 a 44 años      Mujeres     94\n",
       "15     De 45 a 49 años  Ambos sexos    412\n",
       "16     De 45 a 49 años      Hombres    319\n",
       "17     De 45 a 49 años      Mujeres     93\n",
       "18     De 50 a 54 años  Ambos sexos    450\n",
       "19     De 50 a 54 años      Hombres    340\n",
       "20     De 50 a 54 años      Mujeres    110\n",
       "21     De 55 a 59 años  Ambos sexos    324\n",
       "22     De 55 a 59 años      Hombres    237\n",
       "23     De 55 a 59 años      Mujeres     87\n",
       "24     De 60 a 64 años  Ambos sexos    270\n",
       "25     De 60 a 64 años      Hombres    205\n",
       "26     De 60 a 64 años      Mujeres     65\n",
       "27     De 65 a 69 años  Ambos sexos    257\n",
       "28     De 65 a 69 años      Hombres    187\n",
       "29     De 65 a 69 años      Mujeres     70\n",
       "30     De 70 a 74 años  Ambos sexos    247\n",
       "31     De 70 a 74 años      Hombres    182\n",
       "32     De 70 a 74 años      Mujeres     65\n",
       "33     De 75 a 79 años  Ambos sexos    254\n",
       "34     De 75 a 79 años      Hombres    181\n",
       "35     De 75 a 79 años      Mujeres     73\n",
       "36     De 80 a 84 años  Ambos sexos    257\n",
       "37     De 80 a 84 años      Hombres    203\n",
       "38     De 80 a 84 años      Mujeres     54\n",
       "39     De 85 a 89 años  Ambos sexos    137\n",
       "40     De 85 a 89 años      Hombres    106\n",
       "41     De 85 a 89 años      Mujeres     31\n",
       "42     De 90 a 94 años  Ambos sexos     45\n",
       "43     De 90 a 94 años      Hombres     35\n",
       "44     De 90 a 94 años      Mujeres     10\n",
       "45    De 95 años y más  Ambos sexos     10\n",
       "46    De 95 años y más      Hombres      5\n",
       "47    De 95 años y más      Mujeres      5"
      ]
     },
     "execution_count": 330,
     "metadata": {},
     "output_type": "execute_result"
    }
   ],
   "source": [
    "suicidios_2013\n"
   ]
  },
  {
   "cell_type": "code",
   "execution_count": 331,
   "metadata": {},
   "outputs": [],
   "source": [
    "# Primero nos quedamos las tres primera filas que corresponden a totas las edades.\n",
    "suicidios_total_2013 = suicidios_2013.iloc[:3]\n",
    "suicidios_total_2013\n",
    "#Elimanos la primera fila que es el total y lo guardamos como una variable \n",
    "total_2013 = 3861\n",
    "suicidios_total_2013 = suicidios_total_2013.drop(0)\n",
    "suicidios_total_2013['Total'] = (suicidios_total_2013['Total'] * 100 )/total_2013 # Aqui tenemos nuestro nuevo Df en %\n",
    "#suicidios_total_2013"
   ]
  },
  {
   "cell_type": "code",
   "execution_count": 332,
   "metadata": {},
   "outputs": [],
   "source": [
    "# Eliminamos todos los valores que no vamos a usar\n",
    "suicidios_2013 = suicidios_2013[suicidios_2013['Sexo'] != 'Ambos sexos']\n",
    "suicidios_2013\n",
    "# El grupo 1 comprende las edades desde los 15 a los 49 años.\n",
    "grupoa = [\"De 15 a 29 años\",\"De 30 a 39 años\", \"De 40 a 44 años\", \"De 45 a 49 años\"]\n",
    "grupo_1 = suicidios_2013[suicidios_2013[\"Edad\"].isin(grupoa)]\n",
    "# El grupo  comprende las edades desde los 50 a los 64 años.\n",
    "grupob = [\"De 50 a 54 años\", \"De 55 a 59 años\", \"De 60 a 64 años\"]\n",
    "grupo_2 = suicidios_2013[suicidios_2013[\"Edad\"].isin(grupob)]\n",
    "# El grupo 1 comprende las edades desde los 65 a más.\n",
    "grupoc = [\"De 65 a 69 años\", \"De 70 a 74 años\",\"De 75 a 79 años\", \"De 80 a 84 años\", \"De 85 a 89 años\", \"De 90 a 94 años\", \"De 95 años y más\"]\n",
    "grupo_3 = suicidios_2013[suicidios_2013[\"Edad\"].isin(grupoc)]\n",
    "total_grupo_1 = grupo_1[\"Total\"].sum()\n",
    "#grupo_3"
   ]
  },
  {
   "cell_type": "code",
   "execution_count": 333,
   "metadata": {},
   "outputs": [],
   "source": [
    "# Grupo 1\n",
    "# Buscamos solo los datos correspondientes al sexo Hombres\n",
    "grupo_1_hombres = grupo_1[grupo_1['Sexo'] == 'Hombres']\n",
    "# Sumar todos los valores de la columna 'Total' para hombres\n",
    "grupo1_h_total = grupo_1_hombres['Total'].sum()\n",
    "\n",
    "# Buscamos solo los datos correspondientes al sexo Mujeres\n",
    "grupo_1_mujeres = grupo_1[grupo_1['Sexo'] == 'Mujeres']\n",
    "# Sumar todos los valores de la columna 'Total' para hombres\n",
    "grupo1_m_total = grupo_1_mujeres['Total'].sum()\n",
    "\n",
    "datos_m = {\"Edad\": \"De los 15 a los 49 años\",\n",
    "           \"Sexo\": [\"Hombres\", \"Mujeres\"],\n",
    "           \"Total\": [grupo1_h_total,grupo1_m_total]}\n",
    "df_sui1_2013 = pd.DataFrame(datos_m)\n",
    "#df_sui1_2013"
   ]
  },
  {
   "cell_type": "code",
   "execution_count": 334,
   "metadata": {},
   "outputs": [],
   "source": [
    "# Grupo 2\n",
    "# Buscamos solo los datos correspondientes al sexo Hombres\n",
    "grupo_2_hombres = grupo_2[grupo_2['Sexo'] == 'Hombres']\n",
    "# Sumar todos los valores de la columna 'Total' para hombres\n",
    "grupo2_h_total = grupo_2_hombres['Total'].sum()\n",
    "\n",
    "# Buscamos solo los datos correspondientes al sexo Mujeres\n",
    "grupo_2_mujeres = grupo_2[grupo_2['Sexo'] == 'Mujeres']\n",
    "# Sumar todos los valores de la columna 'Total' para hombres\n",
    "grupo2_m_total = grupo_2_mujeres['Total'].sum()\n",
    "\n",
    "datos_m_2 = {\"Edad\": \"De los 50 a los 64 años\",\n",
    "           \"Sexo\": [\"Hombres\", \"Mujeres\"],\n",
    "           \"Total\": [grupo2_h_total,grupo2_m_total]}\n",
    "df_sui2_2013 = pd.DataFrame(datos_m_2)\n",
    "#df_sui2_2013"
   ]
  },
  {
   "cell_type": "code",
   "execution_count": 335,
   "metadata": {},
   "outputs": [],
   "source": [
    "# Grupo 3\n",
    "# Buscamos solo los datos correspondientes al sexo Hombres\n",
    "grupo_3_hombres = grupo_3[grupo_3['Sexo'] == 'Hombres']\n",
    "# Sumar todos los valores de la columna 'Total' para hombres\n",
    "grupo3_h_total = grupo_3_hombres['Total'].sum()\n",
    "\n",
    "# Buscamos solo los datos correspondientes al sexo Mujeres\n",
    "grupo_3_mujeres = grupo_3[grupo_3['Sexo'] == 'Mujeres']\n",
    "# Sumar todos los valores de la columna 'Total' para hombres\n",
    "grupo3_m_total = grupo_3_mujeres['Total'].sum()\n",
    "\n",
    "datos_m_3 = {\"Edad\": \"De los 65 a más años\",\n",
    "           \"Sexo\": [\"Hombres\", \"Mujeres\"],\n",
    "           \"Total\": [grupo3_h_total,grupo3_m_total]}\n",
    "df_sui3_2013  = pd.DataFrame(datos_m_3)\n",
    "#df_sui3_2013"
   ]
  },
  {
   "cell_type": "code",
   "execution_count": 336,
   "metadata": {},
   "outputs": [],
   "source": [
    "suicidios_2013_edad = pd.concat([df_sui1_2013, df_sui2_2013, df_sui3_2013], ignore_index=True)\n",
    "n = suicidios_2013_edad[\"Total\"].sum()\n",
    "suicidios_2013_edad[\"Total\"] = (suicidios_2013_edad[\"Total\"]*100)/n # Aqui tenemos nuestro nuevo Df en %"
   ]
  },
  {
   "cell_type": "code",
   "execution_count": 337,
   "metadata": {},
   "outputs": [],
   "source": [
    "df_15_49 = suicidios_2013_edad[suicidios_2013_edad['Edad'] == 'De los 15 a los 49 años']\n",
    "df_50_54 = suicidios_2013_edad[suicidios_2013_edad['Edad'] == 'De los 50 a los 64 años']\n",
    "df_65_mas = suicidios_2013_edad[suicidios_2013_edad['Edad'] == 'De los 65 a más años']\n",
    "total = df_15_49[\"Total\"].sum()\n",
    "total1 = df_50_54[\"Total\"].sum()\n",
    "total2 = df_65_mas[\"Total\"].sum()\n",
    "data_sui_2013 = {\"Edad\": ['De 16 a 49 años', 'De 50 a 64 años', 'De 65 a más años'],\n",
    "                 \"Porcentaje de suicidios\" : [total, total1, total2]}\n",
    "df_sui_2013 = pd.DataFrame(data_sui_2013)\n",
    "#df_sui_2013\n"
   ]
  },
  {
   "cell_type": "markdown",
   "metadata": {},
   "source": [
    "Suicidio 2018"
   ]
  },
  {
   "cell_type": "code",
   "execution_count": 338,
   "metadata": {},
   "outputs": [],
   "source": [
    "data_suicidios_2018 = \"suicidios_2018.csv\"\n",
    "suicidios_2018 = pd.read_csv(data_suicidios_2018, sep = \";\")\n",
    "menores_total_1_1 = 7 # Valor correspondiente a los suicidios de menores de 15 años\n",
    "menores_hombres_1 = 4 # Valor correspondiente a los suicidios de menores de 15 años hombres \n",
    "menores_mujeres_1 = 3 # Valor correspondiente a los suicidios de menores de 15 años mujeres\n",
    "suicidios_2018.at[0, 'Total'] -= menores_total_1_1  # Le restamos los suicidios de menores de 15 años para que no modifique los datos \n",
    "suicidios_2018.at[1, 'Total'] -= menores_hombres_1\n",
    "suicidios_2018.at[2, 'Total'] -= menores_mujeres_1\n",
    "suicidios_2018 = suicidios_2018.drop([3,4,5]) # Eliminamos las 3 primeras filas"
   ]
  },
  {
   "cell_type": "code",
   "execution_count": 339,
   "metadata": {},
   "outputs": [],
   "source": [
    "# Primero nos quedamos las tres primera filas que corresponden a totas las edades.\n",
    "suicidios_total_2018 = suicidios_2018.iloc[:3]\n",
    "suicidios_total_2018\n",
    "# Elimanos la primera fila que es el total y lo guardamos como una variable \n",
    "total_2018 = 3532\n",
    "suicidios_total_2018 = suicidios_total_2018.drop(0)\n",
    "suicidios_total_2018['Total'] = (suicidios_total_2018['Total'] * 100 )/total_2018 # Aqui tenemos nuestro nuevo Df en %\n",
    "#suicidios_2018"
   ]
  },
  {
   "cell_type": "code",
   "execution_count": 340,
   "metadata": {},
   "outputs": [],
   "source": [
    "# Eliminamos todos los valores que no vamos a usar\n",
    "suicidios_2018 = suicidios_2018[suicidios_2018['Sexo'] != 'Ambos sexos']\n",
    "suicidios_2018\n",
    "\n",
    "# El grupo 1 comprende las edades desde los 15 a los 49 años.\n",
    "grupoa_1 = [\"De 15 a 29 años\",\"De 30 a 39 años\", \"De 40 a 44 años\", \"De 45 a 49 años\"]\n",
    "grupo_1_1 = suicidios_2018[suicidios_2018[\"Edad\"].isin(grupoa_1)]\n",
    "# El grupo  comprende las edades desde los 50 a los 64 años.\n",
    "grupob_1 = [\"De 50 a 54 años\", \"De 55 a 59 años\", \"De 60 a 64 años\"]\n",
    "grupo_2_1 = suicidios_2018[suicidios_2018[\"Edad\"].isin(grupob_1)]\n",
    "# El grupo 1 comprende las edades desde los 65 a más.\n",
    "grupoc_1 = [\"De 65 a 69 años\", \"De 70 a 74 años\",\"De 75 a 79 años\", \"De 80 a 84 años\", \"De 85 a 89 años\", \"De 90 a 94 años\", \"De 95 años y más\"]\n",
    "grupo_3_1 = suicidios_2018[suicidios_2018[\"Edad\"].isin(grupoc_1)]\n",
    "total_grupo_1 = grupo_1_1[\"Total\"].sum()\n",
    "#grupo_3_1"
   ]
  },
  {
   "cell_type": "code",
   "execution_count": 341,
   "metadata": {},
   "outputs": [],
   "source": [
    "# Grupo 1\n",
    "# Buscamos solo los datos correspondientes al sexo Hombres\n",
    "grupo_1_hombres_1 = grupo_1_1[grupo_1_1['Sexo'] == 'Hombres']\n",
    "# Sumar todos los valores de la columna 'Total' para hombres\n",
    "grupo1_h_total_1 = grupo_1_hombres_1['Total'].sum()\n",
    "\n",
    "# Buscamos solo los datos correspondientes al sexo Mujeres\n",
    "grupo_1_mujeres_1 = grupo_1_1[grupo_1_1['Sexo'] == 'Mujeres']\n",
    "# Sumar todos los valores de la columna 'Total' para hombres\n",
    "grupo1_m_total_1 = grupo_1_mujeres_1['Total'].sum()\n",
    "\n",
    "datos_m_1 = {\"Edad\": \"De los 15 a los 49 años\",\n",
    "           \"Sexo\": [\"Hombres\", \"Mujeres\"],\n",
    "           \"Total\": [grupo1_h_total_1,grupo1_m_total_1]}\n",
    "df_sui1_2018 = pd.DataFrame(datos_m_1)\n",
    "#df_sui1_2018"
   ]
  },
  {
   "cell_type": "code",
   "execution_count": 342,
   "metadata": {},
   "outputs": [],
   "source": [
    "# Grupo 2\n",
    "# Buscamos solo los datos correspondientes al sexo Hombres\n",
    "grupo_2_hombres_1 = grupo_2_1[grupo_2_1['Sexo'] == 'Hombres']\n",
    "# Sumar todos los valores de la columna 'Total' para hombres\n",
    "grupo2_h_total_1 = grupo_2_hombres_1['Total'].sum()\n",
    "\n",
    "# Buscamos solo los datos correspondientes al sexo Mujeres\n",
    "grupo_2_mujeres_1 = grupo_2_1[grupo_2_1['Sexo'] == 'Mujeres']\n",
    "# Sumar todos los valores de la columna 'Total' para hombres\n",
    "grupo2_m_total_1 = grupo_2_mujeres_1['Total'].sum()\n",
    "\n",
    "datos_m_2_1 = {\"Edad\": \"De los 50 a los 64 años\",\n",
    "           \"Sexo\": [\"Hombres\", \"Mujeres\"],\n",
    "           \"Total\": [grupo2_h_total_1,grupo2_m_total_1]}\n",
    "df_sui2_2018 = pd.DataFrame(datos_m_2_1)\n",
    "#df_sui2_2018"
   ]
  },
  {
   "cell_type": "code",
   "execution_count": 343,
   "metadata": {},
   "outputs": [],
   "source": [
    "# Grupo 2\n",
    "# Buscamos solo los datos correspondientes al sexo Hombres\n",
    "grupo_2_hombres_1 = grupo_2_1[grupo_2_1['Sexo'] == 'Hombres']\n",
    "# Sumar todos los valores de la columna 'Total' para hombres\n",
    "grupo2_h_total_1 = grupo_2_hombres_1['Total'].sum()\n",
    "\n",
    "# Buscamos solo los datos correspondientes al sexo Mujeres\n",
    "grupo_2_mujeres_1 = grupo_2_1[grupo_2_1['Sexo'] == 'Mujeres']\n",
    "# Sumar todos los valores de la columna 'Total' para hombres\n",
    "grupo2_m_total_1 = grupo_2_mujeres_1['Total'].sum()\n",
    "\n",
    "datos_m_2_1 = {\"Edad\": \"De los 50 a los 64 años\",\n",
    "           \"Sexo\": [\"Hombres\", \"Mujeres\"],\n",
    "           \"Total\": [grupo2_h_total_1,grupo2_m_total_1]}\n",
    "df_sui2_2018 = pd.DataFrame(datos_m_2_1)\n",
    "#df_sui2_2018"
   ]
  },
  {
   "cell_type": "code",
   "execution_count": 344,
   "metadata": {},
   "outputs": [],
   "source": [
    "# Grupo 3\n",
    "# Buscamos solo los datos correspondientes al sexo Hombres\n",
    "grupo_3_hombres_1 = grupo_3_1[grupo_3_1['Sexo'] == 'Hombres']\n",
    "# Sumar todos los valores de la columna 'Total' para hombres\n",
    "grupo3_h_total_1 = grupo_3_hombres_1['Total'].sum()\n",
    "\n",
    "# Buscamos solo los datos correspondientes al sexo Mujeres\n",
    "grupo_3_mujeres_1 = grupo_3_1[grupo_3_1['Sexo'] == 'Mujeres']\n",
    "# Sumar todos los valores de la columna 'Total' para hombres\n",
    "grupo3_m_total_1 = grupo_3_mujeres_1['Total'].sum()\n",
    "\n",
    "datos_m_3_1 = {\"Edad\": \"De los 65 a más años\",\n",
    "           \"Sexo\": [\"Hombres\", \"Mujeres\"],\n",
    "           \"Total\": [grupo3_h_total_1,grupo3_m_total_1]}\n",
    "df_sui3_2018  = pd.DataFrame(datos_m_3_1)\n",
    "#df_sui3_2018"
   ]
  },
  {
   "cell_type": "code",
   "execution_count": 345,
   "metadata": {},
   "outputs": [],
   "source": [
    "suicidios_2018_edad = pd.concat([df_sui1_2018, df_sui2_2018, df_sui3_2018], ignore_index=True)\n",
    "m = suicidios_2018_edad[\"Total\"].sum()\n",
    "suicidios_2018_edad[\"Total\"] = (suicidios_2018_edad[\"Total\"]*100)/m # Aqui tenemos nuestro nuevo Df en %"
   ]
  },
  {
   "cell_type": "code",
   "execution_count": 346,
   "metadata": {},
   "outputs": [],
   "source": [
    "df_15_49_1 = suicidios_2018_edad[suicidios_2013_edad['Edad'] == 'De los 15 a los 49 años']\n",
    "df_50_54_1 = suicidios_2018_edad[suicidios_2013_edad['Edad'] == 'De los 50 a los 64 años']\n",
    "df_65_mas_1 = suicidios_2018_edad[suicidios_2013_edad['Edad'] == 'De los 65 a más años']\n",
    "total_1 = df_15_49_1[\"Total\"].sum()\n",
    "total1_1 = df_50_54_1[\"Total\"].sum()\n",
    "total2_1 = df_65_mas_1[\"Total\"].sum()\n",
    "data_sui_2018_1 = {\"Edad\": ['De 16 a 49 años', 'De 50 a 64 años', 'De 65 a más años'],\n",
    "                 \"Porcentaje de suicidios\" : [total_1, total1_1, total2_1]}\n",
    "df_sui_2018 = pd.DataFrame(data_sui_2018_1)\n",
    "#df_sui_2018"
   ]
  },
  {
   "cell_type": "markdown",
   "metadata": {},
   "source": [
    "Suicidio 2022"
   ]
  },
  {
   "cell_type": "code",
   "execution_count": 347,
   "metadata": {},
   "outputs": [],
   "source": [
    "data_suicidios_2022 = \"suicidios_2022.csv\"\n",
    "suicidios_2022 = pd.read_csv(data_suicidios_2022, sep = \";\")\n",
    "menores_total_2 = 12 # Valor correspondiente a los suicidios de menores de 15 años\n",
    "menores_hombres_2 = 9 # Valor correspondiente a los suicidios de menores de 15 años hombres \n",
    "menores_mujeres_2 = 3 # Valor correspondiente a los suicidios de menores de 15 años mujeres\n",
    "suicidios_2022.at[0, 'Total'] -= menores_total_2  # Le restamos los suicidios de menores de 15 años para que no modifique los datos \n",
    "suicidios_2022.at[1, 'Total'] -= menores_hombres_2\n",
    "suicidios_2022.at[2, 'Total'] -= menores_mujeres_2\n",
    "suicidios_2022 = suicidios_2022.drop([3,4,5]) # Eliminamos las 3 primeras filas\n",
    "#suicidios_2022"
   ]
  },
  {
   "cell_type": "code",
   "execution_count": 348,
   "metadata": {},
   "outputs": [],
   "source": [
    "# Primero nos quedamos las tres primera filas que corresponden a totas las edades.\n",
    "suicidios_total_2022 = suicidios_2022.iloc[:3]\n",
    "suicidios_total_2022\n",
    "#Elimanos la primera fila que es el total y lo guardamos como una variable \n",
    "total_2022 = 4215\n",
    "suicidios_total_2022 = suicidios_total_2022.drop(0)\n",
    "suicidios_total_2022['Total'] = (suicidios_total_2022['Total'] * 100 )/total_2022 # Aqui tenemos nuestro nuevo Df en %"
   ]
  },
  {
   "cell_type": "code",
   "execution_count": 349,
   "metadata": {},
   "outputs": [],
   "source": [
    "# Eliminamos todos los valores que no vamos a usar\n",
    "suicidios_2022 = suicidios_2022[suicidios_2022['Sexo'] != 'Ambos sexos']\n",
    "suicidios_2022\n",
    "\n",
    "# El grupo 1 comprende las edades desde los 15 a los 49 años.\n",
    "grupoa_2 = [\"De 15 a 29 años\",\"De 30 a 39 años\", \"De 40 a 44 años\", \"De 45 a 49 años\"]\n",
    "grupo_1_2 = suicidios_2022[suicidios_2022[\"Edad\"].isin(grupoa_2)]\n",
    "# El grupo  comprende las edades desde los 50 a los 64 años.\n",
    "grupob_2 = [\"De 50 a 54 años\", \"De 55 a 59 años\", \"De 60 a 64 años\"]\n",
    "grupo_2_2 = suicidios_2022[suicidios_2022[\"Edad\"].isin(grupob_2)]\n",
    "# El grupo 1 comprende las edades desde los 65 a más.\n",
    "grupoc_2 = [\"De 65 a 69 años\", \"De 70 a 74 años\",\"De 75 a 79 años\", \"De 80 a 84 años\", \"De 85 a 89 años\", \"De 90 a 94 años\", \"De 95 años y más\"]\n",
    "grupo_3_2 = suicidios_2022[suicidios_2022[\"Edad\"].isin(grupoc_2)]\n",
    "total_grupo_1_2 = grupo_1_2[\"Total\"].sum()\n",
    "#grupo_3_2"
   ]
  },
  {
   "cell_type": "code",
   "execution_count": 350,
   "metadata": {},
   "outputs": [],
   "source": [
    "# Grupo 1\n",
    "# Buscamos solo los datos correspondientes al sexo Hombres\n",
    "grupo_1_hombres_2 = grupo_1_2[grupo_1_2['Sexo'] == 'Hombres']\n",
    "# Sumar todos los valores de la columna 'Total' para hombres\n",
    "grupo1_h_total_2 = grupo_1_hombres_2['Total'].sum()\n",
    "\n",
    "# Buscamos solo los datos correspondientes al sexo Mujeres\n",
    "grupo_1_mujeres_2 = grupo_1_2[grupo_1_2['Sexo'] == 'Mujeres']\n",
    "# Sumar todos los valores de la columna 'Total' para hombres\n",
    "grupo1_m_total_2 = grupo_1_mujeres_2['Total'].sum()\n",
    "\n",
    "datos_m_2 = {\"Edad\": \"De los 15 a los 49 años\",\n",
    "           \"Sexo\": [\"Hombres\", \"Mujeres\"],\n",
    "           \"Total\": [grupo1_h_total_2,grupo1_m_total_2]}\n",
    "df_sui1_2022 = pd.DataFrame(datos_m_2)\n",
    "#df_sui1_2022"
   ]
  },
  {
   "cell_type": "code",
   "execution_count": 351,
   "metadata": {},
   "outputs": [],
   "source": [
    "# Grupo 2\n",
    "# Buscamos solo los datos correspondientes al sexo Hombres\n",
    "grupo_2_hombres_2 = grupo_2_2[grupo_2_2['Sexo'] == 'Hombres']\n",
    "# Sumar todos los valores de la columna 'Total' para hombres\n",
    "grupo2_h_total_2 = grupo_2_hombres_2['Total'].sum()\n",
    "\n",
    "# Buscamos solo los datos correspondientes al sexo Mujeres\n",
    "grupo_2_mujeres_2 = grupo_2_2[grupo_2_2['Sexo'] == 'Mujeres']\n",
    "# Sumar todos los valores de la columna 'Total' para hombres\n",
    "grupo2_m_total_2 = grupo_2_mujeres_2['Total'].sum()\n",
    "\n",
    "datos_m_2_2 = {\"Edad\": \"De los 50 a los 64 años\",\n",
    "           \"Sexo\": [\"Hombres\", \"Mujeres\"],\n",
    "           \"Total\": [grupo2_h_total_2,grupo2_m_total_2]}\n",
    "df_sui2_2022 = pd.DataFrame(datos_m_2_2)\n",
    "#df_sui2_2022"
   ]
  },
  {
   "cell_type": "code",
   "execution_count": 352,
   "metadata": {},
   "outputs": [],
   "source": [
    "# Grupo 3\n",
    "# Buscamos solo los datos correspondientes al sexo Hombres\n",
    "grupo_3_hombres_2 = grupo_3_2[grupo_3_2['Sexo'] == 'Hombres']\n",
    "# Sumar todos los valores de la columna 'Total' para hombres\n",
    "grupo3_h_total_2 = grupo_3_hombres_2['Total'].sum()\n",
    "\n",
    "# Buscamos solo los datos correspondientes al sexo Mujeres\n",
    "grupo_3_mujeres_2 = grupo_3_2[grupo_3_2['Sexo'] == 'Mujeres']\n",
    "# Sumar todos los valores de la columna 'Total' para hombres\n",
    "grupo3_m_total_2 = grupo_3_mujeres_2['Total'].sum()\n",
    "\n",
    "datos_m_3_2 = {\"Edad\": \"De los 65 a más años\",\n",
    "           \"Sexo\": [\"Hombres\", \"Mujeres\"],\n",
    "           \"Total\": [grupo3_h_total_2,grupo3_m_total_2]}\n",
    "df_sui3_2022  = pd.DataFrame(datos_m_3_2)\n",
    "#df_sui3_2022"
   ]
  },
  {
   "cell_type": "code",
   "execution_count": 353,
   "metadata": {},
   "outputs": [],
   "source": [
    "suicidios_2022_edad = pd.concat([df_sui1_2022, df_sui2_2022, df_sui3_2022], ignore_index=True)\n",
    "p = suicidios_2022_edad[\"Total\"].sum()\n",
    "suicidios_2022_edad[\"Total\"] = (suicidios_2022_edad[\"Total\"]*100)/p # Aqui tenemos nuestro nuevo Df en %"
   ]
  },
  {
   "cell_type": "code",
   "execution_count": 354,
   "metadata": {},
   "outputs": [],
   "source": [
    "df_15_49_2 = suicidios_2022_edad[suicidios_2022_edad['Edad'] == 'De los 15 a los 49 años']\n",
    "df_50_54_2 = suicidios_2022_edad[suicidios_2022_edad['Edad'] == 'De los 50 a los 64 años']\n",
    "df_65_mas_2 = suicidios_2022_edad[suicidios_2022_edad['Edad'] == 'De los 65 a más años']\n",
    "total_2 = df_15_49_2[\"Total\"].sum()\n",
    "total1_2 = df_50_54_2[\"Total\"].sum()\n",
    "total2_2 = df_65_mas_2[\"Total\"].sum()\n",
    "data_sui_2022 = {\"Edad\": ['De 16 a 49 años', 'De 50 a 64 años', 'De 65 a más años'],\n",
    "                 \"Porcentaje de suicidios\" : [total_2, total1_2, total2_2]}\n",
    "df_sui_2022 = pd.DataFrame(data_sui_2022)\n",
    "#df_sui_2022\n"
   ]
  },
  {
   "cell_type": "code",
   "execution_count": 355,
   "metadata": {},
   "outputs": [],
   "source": [
    "\n",
    "df_sui_2013.rename(columns={'Porcentaje de suicidios': '2013'}, inplace=True)\n",
    "df_sui_2018.rename(columns={'Porcentaje de suicidios': '2018'}, inplace=True)\n",
    "df_sui_2022.rename(columns={'Porcentaje de suicidios': '2022'}, inplace=True)\n",
    "data_suicidios_edad = pd.merge(df_sui_2013, df_sui_2018, on='Edad').merge(df_sui_2022, on=\"Edad\")\n",
    "#data_suicidios_edad"
   ]
  },
  {
   "cell_type": "code",
   "execution_count": 356,
   "metadata": {},
   "outputs": [
    {
     "data": {
      "application/vnd.plotly.v1+json": {
       "config": {
        "plotlyServerURL": "https://plot.ly"
       },
       "data": [
        {
         "alignmentgroup": "True",
         "hovertemplate": "Año=2013<br> =%{y}<extra></extra>",
         "legendgroup": "2013",
         "marker": {
          "color": "rgb(141,211,199)",
          "pattern": {
           "shape": ""
          }
         },
         "name": "2013",
         "offsetgroup": "2013",
         "orientation": "v",
         "showlegend": true,
         "textposition": "auto",
         "type": "bar",
         "x": [
          "De 16 a 49 años",
          "De 50 a 64 años",
          "De 65 a más años"
         ],
         "xaxis": "x",
         "y": [
          41.6990416990417,
          27.039627039627042,
          31.26133126133126
         ],
         "yaxis": "y"
        },
        {
         "alignmentgroup": "True",
         "hovertemplate": "Año=2018<br> =%{y}<extra></extra>",
         "legendgroup": "2018",
         "marker": {
          "color": "rgb(255,255,179)",
          "pattern": {
           "shape": ""
          }
         },
         "name": "2018",
         "offsetgroup": "2018",
         "orientation": "v",
         "showlegend": true,
         "textposition": "auto",
         "type": "bar",
         "x": [
          "De 16 a 49 años",
          "De 50 a 64 años",
          "De 65 a más años"
         ],
         "xaxis": "x",
         "y": [
          38.844847112117776,
          29.190260475651186,
          31.96489241223103
         ],
         "yaxis": "y"
        },
        {
         "alignmentgroup": "True",
         "hovertemplate": "Año=2022<br> =%{y}<extra></extra>",
         "legendgroup": "2022",
         "marker": {
          "color": "rgb(190,186,218)",
          "pattern": {
           "shape": ""
          }
         },
         "name": "2022",
         "offsetgroup": "2022",
         "orientation": "v",
         "showlegend": true,
         "textposition": "auto",
         "type": "bar",
         "x": [
          "De 16 a 49 años",
          "De 50 a 64 años",
          "De 65 a más años"
         ],
         "xaxis": "x",
         "y": [
          37.27164887307236,
          32.02846975088968,
          30.69988137603796
         ],
         "yaxis": "y"
        }
       ],
       "layout": {
        "barmode": "group",
        "height": 500,
        "legend": {
         "title": {
          "text": "Año"
         },
         "tracegroupgap": 0
        },
        "template": {
         "data": {
          "bar": [
           {
            "error_x": {
             "color": "#2a3f5f"
            },
            "error_y": {
             "color": "#2a3f5f"
            },
            "marker": {
             "line": {
              "color": "#E5ECF6",
              "width": 0.5
             },
             "pattern": {
              "fillmode": "overlay",
              "size": 10,
              "solidity": 0.2
             }
            },
            "type": "bar"
           }
          ],
          "barpolar": [
           {
            "marker": {
             "line": {
              "color": "#E5ECF6",
              "width": 0.5
             },
             "pattern": {
              "fillmode": "overlay",
              "size": 10,
              "solidity": 0.2
             }
            },
            "type": "barpolar"
           }
          ],
          "carpet": [
           {
            "aaxis": {
             "endlinecolor": "#2a3f5f",
             "gridcolor": "white",
             "linecolor": "white",
             "minorgridcolor": "white",
             "startlinecolor": "#2a3f5f"
            },
            "baxis": {
             "endlinecolor": "#2a3f5f",
             "gridcolor": "white",
             "linecolor": "white",
             "minorgridcolor": "white",
             "startlinecolor": "#2a3f5f"
            },
            "type": "carpet"
           }
          ],
          "choropleth": [
           {
            "colorbar": {
             "outlinewidth": 0,
             "ticks": ""
            },
            "type": "choropleth"
           }
          ],
          "contour": [
           {
            "colorbar": {
             "outlinewidth": 0,
             "ticks": ""
            },
            "colorscale": [
             [
              0,
              "#0d0887"
             ],
             [
              0.1111111111111111,
              "#46039f"
             ],
             [
              0.2222222222222222,
              "#7201a8"
             ],
             [
              0.3333333333333333,
              "#9c179e"
             ],
             [
              0.4444444444444444,
              "#bd3786"
             ],
             [
              0.5555555555555556,
              "#d8576b"
             ],
             [
              0.6666666666666666,
              "#ed7953"
             ],
             [
              0.7777777777777778,
              "#fb9f3a"
             ],
             [
              0.8888888888888888,
              "#fdca26"
             ],
             [
              1,
              "#f0f921"
             ]
            ],
            "type": "contour"
           }
          ],
          "contourcarpet": [
           {
            "colorbar": {
             "outlinewidth": 0,
             "ticks": ""
            },
            "type": "contourcarpet"
           }
          ],
          "heatmap": [
           {
            "colorbar": {
             "outlinewidth": 0,
             "ticks": ""
            },
            "colorscale": [
             [
              0,
              "#0d0887"
             ],
             [
              0.1111111111111111,
              "#46039f"
             ],
             [
              0.2222222222222222,
              "#7201a8"
             ],
             [
              0.3333333333333333,
              "#9c179e"
             ],
             [
              0.4444444444444444,
              "#bd3786"
             ],
             [
              0.5555555555555556,
              "#d8576b"
             ],
             [
              0.6666666666666666,
              "#ed7953"
             ],
             [
              0.7777777777777778,
              "#fb9f3a"
             ],
             [
              0.8888888888888888,
              "#fdca26"
             ],
             [
              1,
              "#f0f921"
             ]
            ],
            "type": "heatmap"
           }
          ],
          "heatmapgl": [
           {
            "colorbar": {
             "outlinewidth": 0,
             "ticks": ""
            },
            "colorscale": [
             [
              0,
              "#0d0887"
             ],
             [
              0.1111111111111111,
              "#46039f"
             ],
             [
              0.2222222222222222,
              "#7201a8"
             ],
             [
              0.3333333333333333,
              "#9c179e"
             ],
             [
              0.4444444444444444,
              "#bd3786"
             ],
             [
              0.5555555555555556,
              "#d8576b"
             ],
             [
              0.6666666666666666,
              "#ed7953"
             ],
             [
              0.7777777777777778,
              "#fb9f3a"
             ],
             [
              0.8888888888888888,
              "#fdca26"
             ],
             [
              1,
              "#f0f921"
             ]
            ],
            "type": "heatmapgl"
           }
          ],
          "histogram": [
           {
            "marker": {
             "pattern": {
              "fillmode": "overlay",
              "size": 10,
              "solidity": 0.2
             }
            },
            "type": "histogram"
           }
          ],
          "histogram2d": [
           {
            "colorbar": {
             "outlinewidth": 0,
             "ticks": ""
            },
            "colorscale": [
             [
              0,
              "#0d0887"
             ],
             [
              0.1111111111111111,
              "#46039f"
             ],
             [
              0.2222222222222222,
              "#7201a8"
             ],
             [
              0.3333333333333333,
              "#9c179e"
             ],
             [
              0.4444444444444444,
              "#bd3786"
             ],
             [
              0.5555555555555556,
              "#d8576b"
             ],
             [
              0.6666666666666666,
              "#ed7953"
             ],
             [
              0.7777777777777778,
              "#fb9f3a"
             ],
             [
              0.8888888888888888,
              "#fdca26"
             ],
             [
              1,
              "#f0f921"
             ]
            ],
            "type": "histogram2d"
           }
          ],
          "histogram2dcontour": [
           {
            "colorbar": {
             "outlinewidth": 0,
             "ticks": ""
            },
            "colorscale": [
             [
              0,
              "#0d0887"
             ],
             [
              0.1111111111111111,
              "#46039f"
             ],
             [
              0.2222222222222222,
              "#7201a8"
             ],
             [
              0.3333333333333333,
              "#9c179e"
             ],
             [
              0.4444444444444444,
              "#bd3786"
             ],
             [
              0.5555555555555556,
              "#d8576b"
             ],
             [
              0.6666666666666666,
              "#ed7953"
             ],
             [
              0.7777777777777778,
              "#fb9f3a"
             ],
             [
              0.8888888888888888,
              "#fdca26"
             ],
             [
              1,
              "#f0f921"
             ]
            ],
            "type": "histogram2dcontour"
           }
          ],
          "mesh3d": [
           {
            "colorbar": {
             "outlinewidth": 0,
             "ticks": ""
            },
            "type": "mesh3d"
           }
          ],
          "parcoords": [
           {
            "line": {
             "colorbar": {
              "outlinewidth": 0,
              "ticks": ""
             }
            },
            "type": "parcoords"
           }
          ],
          "pie": [
           {
            "automargin": true,
            "type": "pie"
           }
          ],
          "scatter": [
           {
            "fillpattern": {
             "fillmode": "overlay",
             "size": 10,
             "solidity": 0.2
            },
            "type": "scatter"
           }
          ],
          "scatter3d": [
           {
            "line": {
             "colorbar": {
              "outlinewidth": 0,
              "ticks": ""
             }
            },
            "marker": {
             "colorbar": {
              "outlinewidth": 0,
              "ticks": ""
             }
            },
            "type": "scatter3d"
           }
          ],
          "scattercarpet": [
           {
            "marker": {
             "colorbar": {
              "outlinewidth": 0,
              "ticks": ""
             }
            },
            "type": "scattercarpet"
           }
          ],
          "scattergeo": [
           {
            "marker": {
             "colorbar": {
              "outlinewidth": 0,
              "ticks": ""
             }
            },
            "type": "scattergeo"
           }
          ],
          "scattergl": [
           {
            "marker": {
             "colorbar": {
              "outlinewidth": 0,
              "ticks": ""
             }
            },
            "type": "scattergl"
           }
          ],
          "scattermapbox": [
           {
            "marker": {
             "colorbar": {
              "outlinewidth": 0,
              "ticks": ""
             }
            },
            "type": "scattermapbox"
           }
          ],
          "scatterpolar": [
           {
            "marker": {
             "colorbar": {
              "outlinewidth": 0,
              "ticks": ""
             }
            },
            "type": "scatterpolar"
           }
          ],
          "scatterpolargl": [
           {
            "marker": {
             "colorbar": {
              "outlinewidth": 0,
              "ticks": ""
             }
            },
            "type": "scatterpolargl"
           }
          ],
          "scatterternary": [
           {
            "marker": {
             "colorbar": {
              "outlinewidth": 0,
              "ticks": ""
             }
            },
            "type": "scatterternary"
           }
          ],
          "surface": [
           {
            "colorbar": {
             "outlinewidth": 0,
             "ticks": ""
            },
            "colorscale": [
             [
              0,
              "#0d0887"
             ],
             [
              0.1111111111111111,
              "#46039f"
             ],
             [
              0.2222222222222222,
              "#7201a8"
             ],
             [
              0.3333333333333333,
              "#9c179e"
             ],
             [
              0.4444444444444444,
              "#bd3786"
             ],
             [
              0.5555555555555556,
              "#d8576b"
             ],
             [
              0.6666666666666666,
              "#ed7953"
             ],
             [
              0.7777777777777778,
              "#fb9f3a"
             ],
             [
              0.8888888888888888,
              "#fdca26"
             ],
             [
              1,
              "#f0f921"
             ]
            ],
            "type": "surface"
           }
          ],
          "table": [
           {
            "cells": {
             "fill": {
              "color": "#EBF0F8"
             },
             "line": {
              "color": "white"
             }
            },
            "header": {
             "fill": {
              "color": "#C8D4E3"
             },
             "line": {
              "color": "white"
             }
            },
            "type": "table"
           }
          ]
         },
         "layout": {
          "annotationdefaults": {
           "arrowcolor": "#2a3f5f",
           "arrowhead": 0,
           "arrowwidth": 1
          },
          "autotypenumbers": "strict",
          "coloraxis": {
           "colorbar": {
            "outlinewidth": 0,
            "ticks": ""
           }
          },
          "colorscale": {
           "diverging": [
            [
             0,
             "#8e0152"
            ],
            [
             0.1,
             "#c51b7d"
            ],
            [
             0.2,
             "#de77ae"
            ],
            [
             0.3,
             "#f1b6da"
            ],
            [
             0.4,
             "#fde0ef"
            ],
            [
             0.5,
             "#f7f7f7"
            ],
            [
             0.6,
             "#e6f5d0"
            ],
            [
             0.7,
             "#b8e186"
            ],
            [
             0.8,
             "#7fbc41"
            ],
            [
             0.9,
             "#4d9221"
            ],
            [
             1,
             "#276419"
            ]
           ],
           "sequential": [
            [
             0,
             "#0d0887"
            ],
            [
             0.1111111111111111,
             "#46039f"
            ],
            [
             0.2222222222222222,
             "#7201a8"
            ],
            [
             0.3333333333333333,
             "#9c179e"
            ],
            [
             0.4444444444444444,
             "#bd3786"
            ],
            [
             0.5555555555555556,
             "#d8576b"
            ],
            [
             0.6666666666666666,
             "#ed7953"
            ],
            [
             0.7777777777777778,
             "#fb9f3a"
            ],
            [
             0.8888888888888888,
             "#fdca26"
            ],
            [
             1,
             "#f0f921"
            ]
           ],
           "sequentialminus": [
            [
             0,
             "#0d0887"
            ],
            [
             0.1111111111111111,
             "#46039f"
            ],
            [
             0.2222222222222222,
             "#7201a8"
            ],
            [
             0.3333333333333333,
             "#9c179e"
            ],
            [
             0.4444444444444444,
             "#bd3786"
            ],
            [
             0.5555555555555556,
             "#d8576b"
            ],
            [
             0.6666666666666666,
             "#ed7953"
            ],
            [
             0.7777777777777778,
             "#fb9f3a"
            ],
            [
             0.8888888888888888,
             "#fdca26"
            ],
            [
             1,
             "#f0f921"
            ]
           ]
          },
          "colorway": [
           "#636efa",
           "#EF553B",
           "#00cc96",
           "#ab63fa",
           "#FFA15A",
           "#19d3f3",
           "#FF6692",
           "#B6E880",
           "#FF97FF",
           "#FECB52"
          ],
          "font": {
           "color": "#2a3f5f"
          },
          "geo": {
           "bgcolor": "white",
           "lakecolor": "white",
           "landcolor": "#E5ECF6",
           "showlakes": true,
           "showland": true,
           "subunitcolor": "white"
          },
          "hoverlabel": {
           "align": "left"
          },
          "hovermode": "closest",
          "mapbox": {
           "style": "light"
          },
          "paper_bgcolor": "white",
          "plot_bgcolor": "#E5ECF6",
          "polar": {
           "angularaxis": {
            "gridcolor": "white",
            "linecolor": "white",
            "ticks": ""
           },
           "bgcolor": "#E5ECF6",
           "radialaxis": {
            "gridcolor": "white",
            "linecolor": "white",
            "ticks": ""
           }
          },
          "scene": {
           "xaxis": {
            "backgroundcolor": "#E5ECF6",
            "gridcolor": "white",
            "gridwidth": 2,
            "linecolor": "white",
            "showbackground": true,
            "ticks": "",
            "zerolinecolor": "white"
           },
           "yaxis": {
            "backgroundcolor": "#E5ECF6",
            "gridcolor": "white",
            "gridwidth": 2,
            "linecolor": "white",
            "showbackground": true,
            "ticks": "",
            "zerolinecolor": "white"
           },
           "zaxis": {
            "backgroundcolor": "#E5ECF6",
            "gridcolor": "white",
            "gridwidth": 2,
            "linecolor": "white",
            "showbackground": true,
            "ticks": "",
            "zerolinecolor": "white"
           }
          },
          "shapedefaults": {
           "line": {
            "color": "#2a3f5f"
           }
          },
          "ternary": {
           "aaxis": {
            "gridcolor": "white",
            "linecolor": "white",
            "ticks": ""
           },
           "baxis": {
            "gridcolor": "white",
            "linecolor": "white",
            "ticks": ""
           },
           "bgcolor": "#E5ECF6",
           "caxis": {
            "gridcolor": "white",
            "linecolor": "white",
            "ticks": ""
           }
          },
          "title": {
           "x": 0.05
          },
          "xaxis": {
           "automargin": true,
           "gridcolor": "white",
           "linecolor": "white",
           "ticks": "",
           "title": {
            "standoff": 15
           },
           "zerolinecolor": "white",
           "zerolinewidth": 2
          },
          "yaxis": {
           "automargin": true,
           "gridcolor": "white",
           "linecolor": "white",
           "ticks": "",
           "title": {
            "standoff": 15
           },
           "zerolinecolor": "white",
           "zerolinewidth": 2
          }
         }
        },
        "title": {
         "font": {
          "size": 30
         },
         "text": "Porcentaje de suicidios por edad",
         "x": 0.5
        },
        "xaxis": {
         "anchor": "y",
         "domain": [
          0,
          1
         ],
         "title": {
          "text": " "
         }
        },
        "yaxis": {
         "anchor": "x",
         "domain": [
          0,
          1
         ],
         "title": {
          "text": " "
         }
        }
       }
      }
     },
     "metadata": {},
     "output_type": "display_data"
    }
   ],
   "source": [
    "fig = px.bar(data_suicidios_edad.melt(id_vars='Edad', var_name='Año', value_name='Porcentaje de Suicidios'),\n",
    "             x='Edad', y='Porcentaje de Suicidios', color='Año',\n",
    "             labels={'Porcentaje de Suicidios': ' ', 'Edad': ' '},\n",
    "             title='Porcentaje de suicidios por edad',\n",
    "             height=500,\n",
    "             barmode='group',  \n",
    "             color_discrete_sequence=px.colors.qualitative.Set3)\n",
    "\n",
    "fig.update_layout(title_text='Porcentaje de suicidios por edad', title_x=0.5, title_font=dict(size=30))\n",
    "\n",
    "fig.show()\n"
   ]
  },
  {
   "cell_type": "code",
   "execution_count": 357,
   "metadata": {},
   "outputs": [],
   "source": [
    "#fig.write_image(\"suicidios_edad.png\")"
   ]
  },
  {
   "cell_type": "code",
   "execution_count": 358,
   "metadata": {},
   "outputs": [],
   "source": [
    "suicidios_total_2013.rename(columns={\"Total\":\"2013\"},inplace= True)\n",
    "suicidios_total_2018.rename(columns={\"Total\":\"2018\"},inplace= True)\n",
    "suicidios_total_2022.rename(columns={\"Total\":\"2022\"}, inplace = True)\n",
    "suicidios_total_2013 = suicidios_total_2013.drop(columns=[\"Edad\"])\n",
    "suicidios_total_2018 = suicidios_total_2018.drop(columns=[\"Edad\"])\n",
    "suicidios_total_2022 = suicidios_total_2022.drop(columns=[\"Edad\"])\n",
    "#suicidios_total_2013"
   ]
  },
  {
   "cell_type": "code",
   "execution_count": 359,
   "metadata": {},
   "outputs": [],
   "source": [
    "data_suicidios_sexo = pd.merge(suicidios_total_2013, suicidios_total_2018, on='Sexo').merge(suicidios_total_2022, on=\"Sexo\")\n",
    "#data_suicidios_sexo"
   ]
  },
  {
   "cell_type": "code",
   "execution_count": 360,
   "metadata": {},
   "outputs": [
    {
     "data": {
      "application/vnd.plotly.v1+json": {
       "config": {
        "plotlyServerURL": "https://plot.ly"
       },
       "data": [
        {
         "alignmentgroup": "True",
         "hovertemplate": "Sexo=Hombres<br>Año=%{x}<br> =%{y}<extra></extra>",
         "legendgroup": "Hombres",
         "marker": {
          "color": "#2E91E5",
          "pattern": {
           "shape": ""
          }
         },
         "name": "Hombres",
         "offsetgroup": "Hombres",
         "orientation": "v",
         "showlegend": true,
         "textposition": "auto",
         "type": "bar",
         "x": [
          "2013",
          "2018",
          "2022"
         ],
         "xaxis": "x",
         "y": [
          75.23957523957525,
          74.03737259343148,
          73.95017793594306
         ],
         "yaxis": "y"
        },
        {
         "alignmentgroup": "True",
         "hovertemplate": "Sexo=Mujeres<br>Año=%{x}<br> =%{y}<extra></extra>",
         "legendgroup": "Mujeres",
         "marker": {
          "color": "#E15F99",
          "pattern": {
           "shape": ""
          }
         },
         "name": "Mujeres",
         "offsetgroup": "Mujeres",
         "orientation": "v",
         "showlegend": true,
         "textposition": "auto",
         "type": "bar",
         "x": [
          "2013",
          "2018",
          "2022"
         ],
         "xaxis": "x",
         "y": [
          24.760424760424762,
          25.962627406568515,
          26.04982206405694
         ],
         "yaxis": "y"
        }
       ],
       "layout": {
        "barmode": "group",
        "height": 500,
        "legend": {
         "title": {
          "text": "Sexo"
         },
         "tracegroupgap": 0
        },
        "template": {
         "data": {
          "bar": [
           {
            "error_x": {
             "color": "#2a3f5f"
            },
            "error_y": {
             "color": "#2a3f5f"
            },
            "marker": {
             "line": {
              "color": "#E5ECF6",
              "width": 0.5
             },
             "pattern": {
              "fillmode": "overlay",
              "size": 10,
              "solidity": 0.2
             }
            },
            "type": "bar"
           }
          ],
          "barpolar": [
           {
            "marker": {
             "line": {
              "color": "#E5ECF6",
              "width": 0.5
             },
             "pattern": {
              "fillmode": "overlay",
              "size": 10,
              "solidity": 0.2
             }
            },
            "type": "barpolar"
           }
          ],
          "carpet": [
           {
            "aaxis": {
             "endlinecolor": "#2a3f5f",
             "gridcolor": "white",
             "linecolor": "white",
             "minorgridcolor": "white",
             "startlinecolor": "#2a3f5f"
            },
            "baxis": {
             "endlinecolor": "#2a3f5f",
             "gridcolor": "white",
             "linecolor": "white",
             "minorgridcolor": "white",
             "startlinecolor": "#2a3f5f"
            },
            "type": "carpet"
           }
          ],
          "choropleth": [
           {
            "colorbar": {
             "outlinewidth": 0,
             "ticks": ""
            },
            "type": "choropleth"
           }
          ],
          "contour": [
           {
            "colorbar": {
             "outlinewidth": 0,
             "ticks": ""
            },
            "colorscale": [
             [
              0,
              "#0d0887"
             ],
             [
              0.1111111111111111,
              "#46039f"
             ],
             [
              0.2222222222222222,
              "#7201a8"
             ],
             [
              0.3333333333333333,
              "#9c179e"
             ],
             [
              0.4444444444444444,
              "#bd3786"
             ],
             [
              0.5555555555555556,
              "#d8576b"
             ],
             [
              0.6666666666666666,
              "#ed7953"
             ],
             [
              0.7777777777777778,
              "#fb9f3a"
             ],
             [
              0.8888888888888888,
              "#fdca26"
             ],
             [
              1,
              "#f0f921"
             ]
            ],
            "type": "contour"
           }
          ],
          "contourcarpet": [
           {
            "colorbar": {
             "outlinewidth": 0,
             "ticks": ""
            },
            "type": "contourcarpet"
           }
          ],
          "heatmap": [
           {
            "colorbar": {
             "outlinewidth": 0,
             "ticks": ""
            },
            "colorscale": [
             [
              0,
              "#0d0887"
             ],
             [
              0.1111111111111111,
              "#46039f"
             ],
             [
              0.2222222222222222,
              "#7201a8"
             ],
             [
              0.3333333333333333,
              "#9c179e"
             ],
             [
              0.4444444444444444,
              "#bd3786"
             ],
             [
              0.5555555555555556,
              "#d8576b"
             ],
             [
              0.6666666666666666,
              "#ed7953"
             ],
             [
              0.7777777777777778,
              "#fb9f3a"
             ],
             [
              0.8888888888888888,
              "#fdca26"
             ],
             [
              1,
              "#f0f921"
             ]
            ],
            "type": "heatmap"
           }
          ],
          "heatmapgl": [
           {
            "colorbar": {
             "outlinewidth": 0,
             "ticks": ""
            },
            "colorscale": [
             [
              0,
              "#0d0887"
             ],
             [
              0.1111111111111111,
              "#46039f"
             ],
             [
              0.2222222222222222,
              "#7201a8"
             ],
             [
              0.3333333333333333,
              "#9c179e"
             ],
             [
              0.4444444444444444,
              "#bd3786"
             ],
             [
              0.5555555555555556,
              "#d8576b"
             ],
             [
              0.6666666666666666,
              "#ed7953"
             ],
             [
              0.7777777777777778,
              "#fb9f3a"
             ],
             [
              0.8888888888888888,
              "#fdca26"
             ],
             [
              1,
              "#f0f921"
             ]
            ],
            "type": "heatmapgl"
           }
          ],
          "histogram": [
           {
            "marker": {
             "pattern": {
              "fillmode": "overlay",
              "size": 10,
              "solidity": 0.2
             }
            },
            "type": "histogram"
           }
          ],
          "histogram2d": [
           {
            "colorbar": {
             "outlinewidth": 0,
             "ticks": ""
            },
            "colorscale": [
             [
              0,
              "#0d0887"
             ],
             [
              0.1111111111111111,
              "#46039f"
             ],
             [
              0.2222222222222222,
              "#7201a8"
             ],
             [
              0.3333333333333333,
              "#9c179e"
             ],
             [
              0.4444444444444444,
              "#bd3786"
             ],
             [
              0.5555555555555556,
              "#d8576b"
             ],
             [
              0.6666666666666666,
              "#ed7953"
             ],
             [
              0.7777777777777778,
              "#fb9f3a"
             ],
             [
              0.8888888888888888,
              "#fdca26"
             ],
             [
              1,
              "#f0f921"
             ]
            ],
            "type": "histogram2d"
           }
          ],
          "histogram2dcontour": [
           {
            "colorbar": {
             "outlinewidth": 0,
             "ticks": ""
            },
            "colorscale": [
             [
              0,
              "#0d0887"
             ],
             [
              0.1111111111111111,
              "#46039f"
             ],
             [
              0.2222222222222222,
              "#7201a8"
             ],
             [
              0.3333333333333333,
              "#9c179e"
             ],
             [
              0.4444444444444444,
              "#bd3786"
             ],
             [
              0.5555555555555556,
              "#d8576b"
             ],
             [
              0.6666666666666666,
              "#ed7953"
             ],
             [
              0.7777777777777778,
              "#fb9f3a"
             ],
             [
              0.8888888888888888,
              "#fdca26"
             ],
             [
              1,
              "#f0f921"
             ]
            ],
            "type": "histogram2dcontour"
           }
          ],
          "mesh3d": [
           {
            "colorbar": {
             "outlinewidth": 0,
             "ticks": ""
            },
            "type": "mesh3d"
           }
          ],
          "parcoords": [
           {
            "line": {
             "colorbar": {
              "outlinewidth": 0,
              "ticks": ""
             }
            },
            "type": "parcoords"
           }
          ],
          "pie": [
           {
            "automargin": true,
            "type": "pie"
           }
          ],
          "scatter": [
           {
            "fillpattern": {
             "fillmode": "overlay",
             "size": 10,
             "solidity": 0.2
            },
            "type": "scatter"
           }
          ],
          "scatter3d": [
           {
            "line": {
             "colorbar": {
              "outlinewidth": 0,
              "ticks": ""
             }
            },
            "marker": {
             "colorbar": {
              "outlinewidth": 0,
              "ticks": ""
             }
            },
            "type": "scatter3d"
           }
          ],
          "scattercarpet": [
           {
            "marker": {
             "colorbar": {
              "outlinewidth": 0,
              "ticks": ""
             }
            },
            "type": "scattercarpet"
           }
          ],
          "scattergeo": [
           {
            "marker": {
             "colorbar": {
              "outlinewidth": 0,
              "ticks": ""
             }
            },
            "type": "scattergeo"
           }
          ],
          "scattergl": [
           {
            "marker": {
             "colorbar": {
              "outlinewidth": 0,
              "ticks": ""
             }
            },
            "type": "scattergl"
           }
          ],
          "scattermapbox": [
           {
            "marker": {
             "colorbar": {
              "outlinewidth": 0,
              "ticks": ""
             }
            },
            "type": "scattermapbox"
           }
          ],
          "scatterpolar": [
           {
            "marker": {
             "colorbar": {
              "outlinewidth": 0,
              "ticks": ""
             }
            },
            "type": "scatterpolar"
           }
          ],
          "scatterpolargl": [
           {
            "marker": {
             "colorbar": {
              "outlinewidth": 0,
              "ticks": ""
             }
            },
            "type": "scatterpolargl"
           }
          ],
          "scatterternary": [
           {
            "marker": {
             "colorbar": {
              "outlinewidth": 0,
              "ticks": ""
             }
            },
            "type": "scatterternary"
           }
          ],
          "surface": [
           {
            "colorbar": {
             "outlinewidth": 0,
             "ticks": ""
            },
            "colorscale": [
             [
              0,
              "#0d0887"
             ],
             [
              0.1111111111111111,
              "#46039f"
             ],
             [
              0.2222222222222222,
              "#7201a8"
             ],
             [
              0.3333333333333333,
              "#9c179e"
             ],
             [
              0.4444444444444444,
              "#bd3786"
             ],
             [
              0.5555555555555556,
              "#d8576b"
             ],
             [
              0.6666666666666666,
              "#ed7953"
             ],
             [
              0.7777777777777778,
              "#fb9f3a"
             ],
             [
              0.8888888888888888,
              "#fdca26"
             ],
             [
              1,
              "#f0f921"
             ]
            ],
            "type": "surface"
           }
          ],
          "table": [
           {
            "cells": {
             "fill": {
              "color": "#EBF0F8"
             },
             "line": {
              "color": "white"
             }
            },
            "header": {
             "fill": {
              "color": "#C8D4E3"
             },
             "line": {
              "color": "white"
             }
            },
            "type": "table"
           }
          ]
         },
         "layout": {
          "annotationdefaults": {
           "arrowcolor": "#2a3f5f",
           "arrowhead": 0,
           "arrowwidth": 1
          },
          "autotypenumbers": "strict",
          "coloraxis": {
           "colorbar": {
            "outlinewidth": 0,
            "ticks": ""
           }
          },
          "colorscale": {
           "diverging": [
            [
             0,
             "#8e0152"
            ],
            [
             0.1,
             "#c51b7d"
            ],
            [
             0.2,
             "#de77ae"
            ],
            [
             0.3,
             "#f1b6da"
            ],
            [
             0.4,
             "#fde0ef"
            ],
            [
             0.5,
             "#f7f7f7"
            ],
            [
             0.6,
             "#e6f5d0"
            ],
            [
             0.7,
             "#b8e186"
            ],
            [
             0.8,
             "#7fbc41"
            ],
            [
             0.9,
             "#4d9221"
            ],
            [
             1,
             "#276419"
            ]
           ],
           "sequential": [
            [
             0,
             "#0d0887"
            ],
            [
             0.1111111111111111,
             "#46039f"
            ],
            [
             0.2222222222222222,
             "#7201a8"
            ],
            [
             0.3333333333333333,
             "#9c179e"
            ],
            [
             0.4444444444444444,
             "#bd3786"
            ],
            [
             0.5555555555555556,
             "#d8576b"
            ],
            [
             0.6666666666666666,
             "#ed7953"
            ],
            [
             0.7777777777777778,
             "#fb9f3a"
            ],
            [
             0.8888888888888888,
             "#fdca26"
            ],
            [
             1,
             "#f0f921"
            ]
           ],
           "sequentialminus": [
            [
             0,
             "#0d0887"
            ],
            [
             0.1111111111111111,
             "#46039f"
            ],
            [
             0.2222222222222222,
             "#7201a8"
            ],
            [
             0.3333333333333333,
             "#9c179e"
            ],
            [
             0.4444444444444444,
             "#bd3786"
            ],
            [
             0.5555555555555556,
             "#d8576b"
            ],
            [
             0.6666666666666666,
             "#ed7953"
            ],
            [
             0.7777777777777778,
             "#fb9f3a"
            ],
            [
             0.8888888888888888,
             "#fdca26"
            ],
            [
             1,
             "#f0f921"
            ]
           ]
          },
          "colorway": [
           "#636efa",
           "#EF553B",
           "#00cc96",
           "#ab63fa",
           "#FFA15A",
           "#19d3f3",
           "#FF6692",
           "#B6E880",
           "#FF97FF",
           "#FECB52"
          ],
          "font": {
           "color": "#2a3f5f"
          },
          "geo": {
           "bgcolor": "white",
           "lakecolor": "white",
           "landcolor": "#E5ECF6",
           "showlakes": true,
           "showland": true,
           "subunitcolor": "white"
          },
          "hoverlabel": {
           "align": "left"
          },
          "hovermode": "closest",
          "mapbox": {
           "style": "light"
          },
          "paper_bgcolor": "white",
          "plot_bgcolor": "#E5ECF6",
          "polar": {
           "angularaxis": {
            "gridcolor": "white",
            "linecolor": "white",
            "ticks": ""
           },
           "bgcolor": "#E5ECF6",
           "radialaxis": {
            "gridcolor": "white",
            "linecolor": "white",
            "ticks": ""
           }
          },
          "scene": {
           "xaxis": {
            "backgroundcolor": "#E5ECF6",
            "gridcolor": "white",
            "gridwidth": 2,
            "linecolor": "white",
            "showbackground": true,
            "ticks": "",
            "zerolinecolor": "white"
           },
           "yaxis": {
            "backgroundcolor": "#E5ECF6",
            "gridcolor": "white",
            "gridwidth": 2,
            "linecolor": "white",
            "showbackground": true,
            "ticks": "",
            "zerolinecolor": "white"
           },
           "zaxis": {
            "backgroundcolor": "#E5ECF6",
            "gridcolor": "white",
            "gridwidth": 2,
            "linecolor": "white",
            "showbackground": true,
            "ticks": "",
            "zerolinecolor": "white"
           }
          },
          "shapedefaults": {
           "line": {
            "color": "#2a3f5f"
           }
          },
          "ternary": {
           "aaxis": {
            "gridcolor": "white",
            "linecolor": "white",
            "ticks": ""
           },
           "baxis": {
            "gridcolor": "white",
            "linecolor": "white",
            "ticks": ""
           },
           "bgcolor": "#E5ECF6",
           "caxis": {
            "gridcolor": "white",
            "linecolor": "white",
            "ticks": ""
           }
          },
          "title": {
           "x": 0.05
          },
          "xaxis": {
           "automargin": true,
           "gridcolor": "white",
           "linecolor": "white",
           "ticks": "",
           "title": {
            "standoff": 15
           },
           "zerolinecolor": "white",
           "zerolinewidth": 2
          },
          "yaxis": {
           "automargin": true,
           "gridcolor": "white",
           "linecolor": "white",
           "ticks": "",
           "title": {
            "standoff": 15
           },
           "zerolinecolor": "white",
           "zerolinewidth": 2
          }
         }
        },
        "title": {
         "font": {
          "size": 30
         },
         "text": "Porcentaje de suicidios en España",
         "x": 0.5
        },
        "xaxis": {
         "anchor": "y",
         "domain": [
          0,
          1
         ],
         "title": {
          "text": "Año"
         }
        },
        "yaxis": {
         "anchor": "x",
         "domain": [
          0,
          1
         ],
         "range": [
          0,
          90
         ],
         "title": {
          "text": " "
         }
        }
       }
      }
     },
     "metadata": {},
     "output_type": "display_data"
    }
   ],
   "source": [
    "\n",
    "fig = px.bar(data_suicidios_sexo.melt(id_vars='Sexo', var_name='Año', value_name='Porcentaje'),\n",
    "             x='Año', y='Porcentaje', color='Sexo',\n",
    "             labels={'Porcentaje': ' ', 'Año': 'Año'},\n",
    "             title='Porcentaje de suicidios en España',\n",
    "             height=500,\n",
    "             barmode='group', \n",
    "             color_discrete_sequence=px.colors.qualitative.Dark24)\n",
    "fig.update_layout(title_text='Porcentaje de suicidios en España', title_x=0.5, title_font=dict(size=30))\n",
    "fig.update_yaxes(range=[0, 90])\n",
    "fig.update_layout(title_x=0.5)\n",
    "fig.show()\n"
   ]
  },
  {
   "cell_type": "code",
   "execution_count": 361,
   "metadata": {},
   "outputs": [],
   "source": [
    "#fig.write_image(\"sui_sexo.png\")"
   ]
  },
  {
   "cell_type": "code",
   "execution_count": 362,
   "metadata": {},
   "outputs": [
    {
     "data": {
      "text/html": [
       "<div>\n",
       "<style scoped>\n",
       "    .dataframe tbody tr th:only-of-type {\n",
       "        vertical-align: middle;\n",
       "    }\n",
       "\n",
       "    .dataframe tbody tr th {\n",
       "        vertical-align: top;\n",
       "    }\n",
       "\n",
       "    .dataframe thead th {\n",
       "        text-align: right;\n",
       "    }\n",
       "</style>\n",
       "<table border=\"1\" class=\"dataframe\">\n",
       "  <thead>\n",
       "    <tr style=\"text-align: right;\">\n",
       "      <th></th>\n",
       "      <th>Sexo</th>\n",
       "      <th>2013</th>\n",
       "      <th>2018</th>\n",
       "      <th>2022</th>\n",
       "    </tr>\n",
       "  </thead>\n",
       "  <tbody>\n",
       "    <tr>\n",
       "      <th>0</th>\n",
       "      <td>Hombres</td>\n",
       "      <td>75.239575</td>\n",
       "      <td>74.037373</td>\n",
       "      <td>73.950178</td>\n",
       "    </tr>\n",
       "    <tr>\n",
       "      <th>1</th>\n",
       "      <td>Mujeres</td>\n",
       "      <td>24.760425</td>\n",
       "      <td>25.962627</td>\n",
       "      <td>26.049822</td>\n",
       "    </tr>\n",
       "  </tbody>\n",
       "</table>\n",
       "</div>"
      ],
      "text/plain": [
       "      Sexo       2013       2018       2022\n",
       "0  Hombres  75.239575  74.037373  73.950178\n",
       "1  Mujeres  24.760425  25.962627  26.049822"
      ]
     },
     "execution_count": 362,
     "metadata": {},
     "output_type": "execute_result"
    }
   ],
   "source": [
    "data_suicidios_sexo"
   ]
  },
  {
   "cell_type": "code",
   "execution_count": 363,
   "metadata": {},
   "outputs": [
    {
     "data": {
      "text/html": [
       "<div>\n",
       "<style scoped>\n",
       "    .dataframe tbody tr th:only-of-type {\n",
       "        vertical-align: middle;\n",
       "    }\n",
       "\n",
       "    .dataframe tbody tr th {\n",
       "        vertical-align: top;\n",
       "    }\n",
       "\n",
       "    .dataframe thead th {\n",
       "        text-align: right;\n",
       "    }\n",
       "</style>\n",
       "<table border=\"1\" class=\"dataframe\">\n",
       "  <thead>\n",
       "    <tr style=\"text-align: right;\">\n",
       "      <th></th>\n",
       "      <th>Sexo</th>\n",
       "      <th>Año</th>\n",
       "      <th>Porcentaje de Suicidios</th>\n",
       "    </tr>\n",
       "  </thead>\n",
       "  <tbody>\n",
       "    <tr>\n",
       "      <th>0</th>\n",
       "      <td>Hombres</td>\n",
       "      <td>2013</td>\n",
       "      <td>75.239575</td>\n",
       "    </tr>\n",
       "    <tr>\n",
       "      <th>1</th>\n",
       "      <td>Mujeres</td>\n",
       "      <td>2013</td>\n",
       "      <td>24.760425</td>\n",
       "    </tr>\n",
       "    <tr>\n",
       "      <th>2</th>\n",
       "      <td>Hombres</td>\n",
       "      <td>2018</td>\n",
       "      <td>74.037373</td>\n",
       "    </tr>\n",
       "    <tr>\n",
       "      <th>3</th>\n",
       "      <td>Mujeres</td>\n",
       "      <td>2018</td>\n",
       "      <td>25.962627</td>\n",
       "    </tr>\n",
       "    <tr>\n",
       "      <th>4</th>\n",
       "      <td>Hombres</td>\n",
       "      <td>2022</td>\n",
       "      <td>73.950178</td>\n",
       "    </tr>\n",
       "    <tr>\n",
       "      <th>5</th>\n",
       "      <td>Mujeres</td>\n",
       "      <td>2022</td>\n",
       "      <td>26.049822</td>\n",
       "    </tr>\n",
       "  </tbody>\n",
       "</table>\n",
       "</div>"
      ],
      "text/plain": [
       "      Sexo   Año  Porcentaje de Suicidios\n",
       "0  Hombres  2013                75.239575\n",
       "1  Mujeres  2013                24.760425\n",
       "2  Hombres  2018                74.037373\n",
       "3  Mujeres  2018                25.962627\n",
       "4  Hombres  2022                73.950178\n",
       "5  Mujeres  2022                26.049822"
      ]
     },
     "execution_count": 363,
     "metadata": {},
     "output_type": "execute_result"
    }
   ],
   "source": [
    "data_suicidios = pd.melt(data_suicidios_sexo, id_vars='Sexo', var_name='Año', value_name='Porcentaje de Suicidios')\n",
    "data_suicidios\n"
   ]
  },
  {
   "cell_type": "code",
   "execution_count": 364,
   "metadata": {},
   "outputs": [
    {
     "data": {
      "text/plain": [
       "<Figure size 640x480 with 0 Axes>"
      ]
     },
     "metadata": {},
     "output_type": "display_data"
    },
    {
     "data": {
      "image/png": "[encoded data removed]",
      "text/plain": [
       "<Figure size 1200x500 with 2 Axes>"
      ]
     },
     "metadata": {},
     "output_type": "display_data"
    }
   ],
   "source": [
    "fig = plt.figure()\n",
    "fig, axs = plt.subplots(1, 2, figsize=(12, 5), sharex= True, sharey= True)\n",
    "\n",
    "sns.barplot(x='Año', y=\"Porcentaje de felicidad\", hue='Sexo', data= data_felicidad_sexo , palette='pastel',ax=axs[0])\n",
    "axs[0].set_title('Porcentaje de felicidad en España', fontsize=18)\n",
    "axs[0].set_ylabel('')\n",
    "axs[0].set_xlabel('')\n",
    "\n",
    "sns.barplot(x='Año', y='Porcentaje de Suicidios', hue='Sexo', data=data_suicidios, palette='pastel', ax=axs[1])\n",
    "axs[1].set_title('Porcentaje de suicidios en España', fontsize=18)\n",
    "axs[1].legend().set_visible(False)\n",
    "axs[1].set_xlabel('')\n",
    "plt.subplots_adjust(left=0.1, right=0.9, top=1.4 , bottom=0.1)\n",
    "plt.tight_layout()\n",
    "plt.savefig('comparacion sui_sexo.png', dpi=300)\n",
    "plt.show();"
   ]
  },
  {
   "cell_type": "code",
   "execution_count": 365,
   "metadata": {},
   "outputs": [
    {
     "data": {
      "text/plain": [
       "<Figure size 640x480 with 0 Axes>"
      ]
     },
     "metadata": {},
     "output_type": "display_data"
    },
    {
     "data": {
      "image/png": "[encoded data removed]",
      "text/plain": [
       "<Figure size 1200x500 with 2 Axes>"
      ]
     },
     "metadata": {},
     "output_type": "display_data"
    }
   ],
   "source": [
    "\n",
    "fig=plt.figure()\n",
    "fig, axs = plt.subplots(1, 2, figsize=(12, 5))\n",
    "\n",
    "# Gráfico de barras para porcentaje de suicidios\n",
    "bar_width = 0.2\n",
    "bar_positions = np.arange(len(data_suicidios_edad['Edad']))\n",
    "for i, year in enumerate(data_suicidios_edad.columns[1:]):\n",
    "    axs[0].bar(bar_positions + i * bar_width, data_suicidios_edad[year], width=bar_width, label=year)\n",
    "\n",
    "axs[0].set_title('Porcentaje de Suicidios por Edad')\n",
    "axs[0].set_xlabel('Edad')\n",
    "axs[0].set_ylabel('Porcentaje')\n",
    "axs[0].set_xticks(bar_positions + bar_width)\n",
    "axs[0].set_xticklabels(data_suicidios_edad['Edad'])\n",
    "axs[0].legend()\n",
    "\n",
    "for i, year in enumerate(data_felicidad_edad.columns[1:]):\n",
    "    axs[1].bar(bar_positions + i * bar_width, data_felicidad_edad[year], width=bar_width, label=year)\n",
    "\n",
    "axs[1].set_title('Porcentaje de Felicidad por Edad')\n",
    "axs[1].set_xlabel('Edad')\n",
    "axs[1].set_ylabel('Porcentaje')\n",
    "axs[1].set_xticks(bar_positions + bar_width)\n",
    "axs[1].set_xticklabels(data_felicidad_edad['Edad'])\n",
    "axs[1].legend()\n",
    "plt.tight_layout()\n",
    "plt.savefig('suicidios_Edad', dpi=300)\n",
    "\n",
    "plt.show();"
   ]
  }
 ],
 "metadata": {
  "kernelspec": {
   "display_name": "Python 3 (ipykernel)",
   "language": "python",
   "name": "python3"
  },
  "language_info": {
   "codemirror_mode": {
    "name": "ipython",
    "version": 3
   },
   "file_extension": ".py",
   "mimetype": "text/x-python",
   "name": "python",
   "nbconvert_exporter": "python",
   "pygments_lexer": "ipython3",
   "version": "3.11.5"
  }
 },
 "nbformat": 4,
 "nbformat_minor": 2
}
